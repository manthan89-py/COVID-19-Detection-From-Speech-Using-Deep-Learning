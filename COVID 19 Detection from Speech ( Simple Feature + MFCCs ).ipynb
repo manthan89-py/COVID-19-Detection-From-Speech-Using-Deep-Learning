{
 "cells": [
  {
   "cell_type": "code",
   "execution_count": 1,
   "id": "050074f4",
   "metadata": {},
   "outputs": [
    {
     "data": {
      "application/javascript": [
       "\n",
       "            setTimeout(function() {\n",
       "                var nbb_cell_id = 1;\n",
       "                var nbb_unformatted_code = \"%load_ext nb_black\";\n",
       "                var nbb_formatted_code = \"%load_ext nb_black\";\n",
       "                var nbb_cells = Jupyter.notebook.get_cells();\n",
       "                for (var i = 0; i < nbb_cells.length; ++i) {\n",
       "                    if (nbb_cells[i].input_prompt_number == nbb_cell_id) {\n",
       "                        if (nbb_cells[i].get_text() == nbb_unformatted_code) {\n",
       "                             nbb_cells[i].set_text(nbb_formatted_code);\n",
       "                        }\n",
       "                        break;\n",
       "                    }\n",
       "                }\n",
       "            }, 500);\n",
       "            "
      ],
      "text/plain": [
       "<IPython.core.display.Javascript object>"
      ]
     },
     "metadata": {},
     "output_type": "display_data"
    }
   ],
   "source": [
    "%load_ext nb_black"
   ]
  },
  {
   "cell_type": "markdown",
   "id": "94260202",
   "metadata": {},
   "source": [
    "## Import Section"
   ]
  },
  {
   "cell_type": "code",
   "execution_count": 13,
   "id": "6e10047c",
   "metadata": {},
   "outputs": [
    {
     "data": {
      "application/javascript": [
       "\n",
       "            setTimeout(function() {\n",
       "                var nbb_cell_id = 13;\n",
       "                var nbb_unformatted_code = \"import os\\nimport json\\nimport numpy as np\\nimport matplotlib.pyplot as plt\\nimport re\\nimport pandas as pd\\nimport librosa\\nimport tensorflow\\nfrom tensorflow.keras.models import Sequential\\nimport tensorflow.keras as keras \\nfrom sklearn.model_selection import train_test_split\\nimport IPython.display as ipd\\nfrom tensorflow.keras.models import load_model\\nfrom sklearn.preprocessing import LabelEncoder\";\n",
       "                var nbb_formatted_code = \"import os\\nimport json\\nimport numpy as np\\nimport matplotlib.pyplot as plt\\nimport re\\nimport pandas as pd\\nimport librosa\\nimport tensorflow\\nfrom tensorflow.keras.models import Sequential\\nimport tensorflow.keras as keras\\nfrom sklearn.model_selection import train_test_split\\nimport IPython.display as ipd\\nfrom tensorflow.keras.models import load_model\\nfrom sklearn.preprocessing import LabelEncoder\";\n",
       "                var nbb_cells = Jupyter.notebook.get_cells();\n",
       "                for (var i = 0; i < nbb_cells.length; ++i) {\n",
       "                    if (nbb_cells[i].input_prompt_number == nbb_cell_id) {\n",
       "                        if (nbb_cells[i].get_text() == nbb_unformatted_code) {\n",
       "                             nbb_cells[i].set_text(nbb_formatted_code);\n",
       "                        }\n",
       "                        break;\n",
       "                    }\n",
       "                }\n",
       "            }, 500);\n",
       "            "
      ],
      "text/plain": [
       "<IPython.core.display.Javascript object>"
      ]
     },
     "metadata": {},
     "output_type": "display_data"
    }
   ],
   "source": [
    "import os\n",
    "import json\n",
    "import numpy as np\n",
    "import matplotlib.pyplot as plt\n",
    "import re\n",
    "import pandas as pd\n",
    "import librosa\n",
    "import tensorflow\n",
    "from tensorflow.keras.models import Sequential\n",
    "import tensorflow.keras as keras\n",
    "from sklearn.model_selection import train_test_split\n",
    "import IPython.display as ipd\n",
    "from tensorflow.keras.models import load_model\n",
    "from sklearn.preprocessing import LabelEncoder"
   ]
  },
  {
   "cell_type": "code",
   "execution_count": 4,
   "id": "fe4ed0bd",
   "metadata": {},
   "outputs": [
    {
     "data": {
      "application/javascript": [
       "\n",
       "            setTimeout(function() {\n",
       "                var nbb_cell_id = 4;\n",
       "                var nbb_unformatted_code = \"DATASET_PATH = \\\"COVID-19\\\"\";\n",
       "                var nbb_formatted_code = \"DATASET_PATH = \\\"COVID-19\\\"\";\n",
       "                var nbb_cells = Jupyter.notebook.get_cells();\n",
       "                for (var i = 0; i < nbb_cells.length; ++i) {\n",
       "                    if (nbb_cells[i].input_prompt_number == nbb_cell_id) {\n",
       "                        if (nbb_cells[i].get_text() == nbb_unformatted_code) {\n",
       "                             nbb_cells[i].set_text(nbb_formatted_code);\n",
       "                        }\n",
       "                        break;\n",
       "                    }\n",
       "                }\n",
       "            }, 500);\n",
       "            "
      ],
      "text/plain": [
       "<IPython.core.display.Javascript object>"
      ]
     },
     "metadata": {},
     "output_type": "display_data"
    }
   ],
   "source": [
    "DATASET_PATH = \"COVID-19\""
   ]
  },
  {
   "cell_type": "code",
   "execution_count": 5,
   "id": "270c5561",
   "metadata": {},
   "outputs": [
    {
     "data": {
      "application/javascript": [
       "\n",
       "            setTimeout(function() {\n",
       "                var nbb_cell_id = 5;\n",
       "                var nbb_unformatted_code = \"files = []\\n\\n# r=root, d=directories, f = files\\n\\nfor r, d, f in os.walk(DATASET_PATH):\\n    for file in f:\\n        if \\\".wav\\\" in file:\\n            files.append(os.path.join(r, file))\";\n",
       "                var nbb_formatted_code = \"files = []\\n\\n# r=root, d=directories, f = files\\n\\nfor r, d, f in os.walk(DATASET_PATH):\\n    for file in f:\\n        if \\\".wav\\\" in file:\\n            files.append(os.path.join(r, file))\";\n",
       "                var nbb_cells = Jupyter.notebook.get_cells();\n",
       "                for (var i = 0; i < nbb_cells.length; ++i) {\n",
       "                    if (nbb_cells[i].input_prompt_number == nbb_cell_id) {\n",
       "                        if (nbb_cells[i].get_text() == nbb_unformatted_code) {\n",
       "                             nbb_cells[i].set_text(nbb_formatted_code);\n",
       "                        }\n",
       "                        break;\n",
       "                    }\n",
       "                }\n",
       "            }, 500);\n",
       "            "
      ],
      "text/plain": [
       "<IPython.core.display.Javascript object>"
      ]
     },
     "metadata": {},
     "output_type": "display_data"
    }
   ],
   "source": [
    "files = []\n",
    "\n",
    "# r=root, d=directories, f = files\n",
    "\n",
    "for r, d, f in os.walk(DATASET_PATH):\n",
    "    for file in f:\n",
    "        if \".wav\" in file:\n",
    "            files.append(os.path.join(r, file))"
   ]
  },
  {
   "cell_type": "code",
   "execution_count": 6,
   "id": "0189d9ed",
   "metadata": {},
   "outputs": [
    {
     "data": {
      "text/plain": [
       "['COVID-19/7DfMFXPDu3W2Fxjs8w0OsLIY8em1/vowel-o.wav',\n",
       " 'COVID-19/7DfMFXPDu3W2Fxjs8w0OsLIY8em1/vowel-a.wav',\n",
       " 'COVID-19/7DfMFXPDu3W2Fxjs8w0OsLIY8em1/breathing-shallow.wav',\n",
       " 'COVID-19/7DfMFXPDu3W2Fxjs8w0OsLIY8em1/cough-shallow.wav',\n",
       " 'COVID-19/7DfMFXPDu3W2Fxjs8w0OsLIY8em1/vowel-e.wav',\n",
       " 'COVID-19/7DfMFXPDu3W2Fxjs8w0OsLIY8em1/cough-heavy.wav',\n",
       " 'COVID-19/7DfMFXPDu3W2Fxjs8w0OsLIY8em1/breathing-deep.wav',\n",
       " 'COVID-19/7DfMFXPDu3W2Fxjs8w0OsLIY8em1/counting-normal.wav',\n",
       " 'COVID-19/7DfMFXPDu3W2Fxjs8w0OsLIY8em1/counting-fast.wav']"
      ]
     },
     "execution_count": 6,
     "metadata": {},
     "output_type": "execute_result"
    },
    {
     "data": {
      "application/javascript": [
       "\n",
       "            setTimeout(function() {\n",
       "                var nbb_cell_id = 6;\n",
       "                var nbb_unformatted_code = \"files[:9]\";\n",
       "                var nbb_formatted_code = \"files[:9]\";\n",
       "                var nbb_cells = Jupyter.notebook.get_cells();\n",
       "                for (var i = 0; i < nbb_cells.length; ++i) {\n",
       "                    if (nbb_cells[i].input_prompt_number == nbb_cell_id) {\n",
       "                        if (nbb_cells[i].get_text() == nbb_unformatted_code) {\n",
       "                             nbb_cells[i].set_text(nbb_formatted_code);\n",
       "                        }\n",
       "                        break;\n",
       "                    }\n",
       "                }\n",
       "            }, 500);\n",
       "            "
      ],
      "text/plain": [
       "<IPython.core.display.Javascript object>"
      ]
     },
     "metadata": {},
     "output_type": "display_data"
    }
   ],
   "source": [
    "files[:9]"
   ]
  },
  {
   "cell_type": "markdown",
   "id": "09582e49",
   "metadata": {},
   "source": [
    "## Feature Extraction"
   ]
  },
  {
   "cell_type": "code",
   "execution_count": 8,
   "id": "aeab3625",
   "metadata": {},
   "outputs": [
    {
     "name": "stderr",
     "output_type": "stream",
     "text": [
      "/home/manthan/Drive/Work/VSCode/vscode/lib/python3.8/site-packages/librosa/core/pitch.py:153: UserWarning: Trying to estimate tuning from empty frequency set.\n",
      "  warnings.warn(\"Trying to estimate tuning from empty frequency set.\")\n"
     ]
    },
    {
     "data": {
      "application/javascript": [
       "\n",
       "            setTimeout(function() {\n",
       "                var nbb_cell_id = 8;\n",
       "                var nbb_unformatted_code = \"RMSE = []\\nchroma_stft = []\\nspec_cent = []\\nspec_bw = []\\nrolloff = []\\nzcr = []\\nuser_id = []\\nmfcc = []\\n\\nfor f in files:\\n\\n    y, sr = librosa.load(f, sr=None)\\n\\n    if y is None or len(y) == 0:\\n        continue\\n\\n    else:\\n        user_id.append(f.split(\\\"/\\\")[1])\\n\\n        metadata = json.load(open(\\\"/\\\".join(f.split(\\\"/\\\")[:2]) + \\\"/metadata.json\\\"))\\n\\n        # Root Mean Squared Error\\n        RMSE.append(np.mean(librosa.feature.rms(y)[0]))\\n\\n        # Chroma Based Short Time Fourier Transform\\n        chroma_stft.append(np.mean(librosa.feature.chroma_stft(y=y, sr=sr)))\\n\\n        # Spectral Centroid\\n        spec_cent.append(np.mean(librosa.feature.spectral_centroid(y=y, sr=sr)))\\n\\n        # Spectral Bandwidth\\n        spec_bw.append(np.mean(librosa.feature.spectral_bandwidth(y=y, sr=sr)))\\n\\n        # Spectral RollOff\\n        rolloff.append(np.mean(librosa.feature.spectral_rolloff(y=y, sr=sr)))\\n\\n        # Zero Crossing Rate\\n        zcr.append(np.mean(librosa.feature.zero_crossing_rate(y)))\\n\\n        mfccs = librosa.feature.mfcc(y=y, sr=sr)\\n        m = []\\n\\n        for e in mfccs:\\n            m.append(np.mean(e))\\n        mfcc.append(m)\";\n",
       "                var nbb_formatted_code = \"RMSE = []\\nchroma_stft = []\\nspec_cent = []\\nspec_bw = []\\nrolloff = []\\nzcr = []\\nuser_id = []\\nmfcc = []\\n\\nfor f in files:\\n\\n    y, sr = librosa.load(f, sr=None)\\n\\n    if y is None or len(y) == 0:\\n        continue\\n\\n    else:\\n        user_id.append(f.split(\\\"/\\\")[1])\\n\\n        metadata = json.load(open(\\\"/\\\".join(f.split(\\\"/\\\")[:2]) + \\\"/metadata.json\\\"))\\n\\n        # Root Mean Squared Error\\n        RMSE.append(np.mean(librosa.feature.rms(y)[0]))\\n\\n        # Chroma Based Short Time Fourier Transform\\n        chroma_stft.append(np.mean(librosa.feature.chroma_stft(y=y, sr=sr)))\\n\\n        # Spectral Centroid\\n        spec_cent.append(np.mean(librosa.feature.spectral_centroid(y=y, sr=sr)))\\n\\n        # Spectral Bandwidth\\n        spec_bw.append(np.mean(librosa.feature.spectral_bandwidth(y=y, sr=sr)))\\n\\n        # Spectral RollOff\\n        rolloff.append(np.mean(librosa.feature.spectral_rolloff(y=y, sr=sr)))\\n\\n        # Zero Crossing Rate\\n        zcr.append(np.mean(librosa.feature.zero_crossing_rate(y)))\\n\\n        mfccs = librosa.feature.mfcc(y=y, sr=sr)\\n        m = []\\n\\n        for e in mfccs:\\n            m.append(np.mean(e))\\n        mfcc.append(m)\";\n",
       "                var nbb_cells = Jupyter.notebook.get_cells();\n",
       "                for (var i = 0; i < nbb_cells.length; ++i) {\n",
       "                    if (nbb_cells[i].input_prompt_number == nbb_cell_id) {\n",
       "                        if (nbb_cells[i].get_text() == nbb_unformatted_code) {\n",
       "                             nbb_cells[i].set_text(nbb_formatted_code);\n",
       "                        }\n",
       "                        break;\n",
       "                    }\n",
       "                }\n",
       "            }, 500);\n",
       "            "
      ],
      "text/plain": [
       "<IPython.core.display.Javascript object>"
      ]
     },
     "metadata": {},
     "output_type": "display_data"
    }
   ],
   "source": [
    "RMSE = []\n",
    "chroma_stft = []\n",
    "spec_cent = []\n",
    "spec_bw = []\n",
    "rolloff = []\n",
    "zcr = []\n",
    "user_id = []\n",
    "mfcc = []\n",
    "\n",
    "for f in files:\n",
    "\n",
    "    y, sr = librosa.load(f, sr=None)\n",
    "\n",
    "    if y is None or len(y) == 0:\n",
    "        continue\n",
    "\n",
    "    else:\n",
    "        user_id.append(f.split(\"/\")[1])\n",
    "\n",
    "        metadata = json.load(open(\"/\".join(f.split(\"/\")[:2]) + \"/metadata.json\"))\n",
    "\n",
    "        # Root Mean Squared Error\n",
    "        RMSE.append(np.mean(librosa.feature.rms(y)[0]))\n",
    "\n",
    "        # Chroma Based Short Time Fourier Transform\n",
    "        chroma_stft.append(np.mean(librosa.feature.chroma_stft(y=y, sr=sr)))\n",
    "\n",
    "        # Spectral Centroid\n",
    "        spec_cent.append(np.mean(librosa.feature.spectral_centroid(y=y, sr=sr)))\n",
    "\n",
    "        # Spectral Bandwidth\n",
    "        spec_bw.append(np.mean(librosa.feature.spectral_bandwidth(y=y, sr=sr)))\n",
    "\n",
    "        # Spectral RollOff\n",
    "        rolloff.append(np.mean(librosa.feature.spectral_rolloff(y=y, sr=sr)))\n",
    "\n",
    "        # Zero Crossing Rate\n",
    "        zcr.append(np.mean(librosa.feature.zero_crossing_rate(y)))\n",
    "\n",
    "        mfccs = librosa.feature.mfcc(y=y, sr=sr)\n",
    "        m = []\n",
    "\n",
    "        for e in mfccs:\n",
    "            m.append(np.mean(e))\n",
    "        mfcc.append(m)"
   ]
  },
  {
   "cell_type": "code",
   "execution_count": 9,
   "id": "77a067d3",
   "metadata": {},
   "outputs": [
    {
     "data": {
      "application/javascript": [
       "\n",
       "            setTimeout(function() {\n",
       "                var nbb_cell_id = 9;\n",
       "                var nbb_unformatted_code = \"data1 = pd.DataFrame(\\n    {\\n        \\\"user_id\\\": user_id,\\n        \\\"filepath\\\": files,\\n        \\\"RMSE\\\": RMSE,\\n        \\\"chroma_stft\\\": chroma_stft,\\n        \\\"spec_cent\\\": spec_cent,\\n        \\\"spec_bw\\\": spec_bw,\\n        \\\"spec_rolloff\\\": rolloff,\\n        \\\"zcr\\\": zcr,\\n    }\\n)\";\n",
       "                var nbb_formatted_code = \"data1 = pd.DataFrame(\\n    {\\n        \\\"user_id\\\": user_id,\\n        \\\"filepath\\\": files,\\n        \\\"RMSE\\\": RMSE,\\n        \\\"chroma_stft\\\": chroma_stft,\\n        \\\"spec_cent\\\": spec_cent,\\n        \\\"spec_bw\\\": spec_bw,\\n        \\\"spec_rolloff\\\": rolloff,\\n        \\\"zcr\\\": zcr,\\n    }\\n)\";\n",
       "                var nbb_cells = Jupyter.notebook.get_cells();\n",
       "                for (var i = 0; i < nbb_cells.length; ++i) {\n",
       "                    if (nbb_cells[i].input_prompt_number == nbb_cell_id) {\n",
       "                        if (nbb_cells[i].get_text() == nbb_unformatted_code) {\n",
       "                             nbb_cells[i].set_text(nbb_formatted_code);\n",
       "                        }\n",
       "                        break;\n",
       "                    }\n",
       "                }\n",
       "            }, 500);\n",
       "            "
      ],
      "text/plain": [
       "<IPython.core.display.Javascript object>"
      ]
     },
     "metadata": {},
     "output_type": "display_data"
    }
   ],
   "source": [
    "data1 = pd.DataFrame(\n",
    "    {\n",
    "        \"user_id\": user_id,\n",
    "        \"filepath\": files,\n",
    "        \"RMSE\": RMSE,\n",
    "        \"chroma_stft\": chroma_stft,\n",
    "        \"spec_cent\": spec_cent,\n",
    "        \"spec_bw\": spec_bw,\n",
    "        \"spec_rolloff\": rolloff,\n",
    "        \"zcr\": zcr,\n",
    "    }\n",
    ")"
   ]
  },
  {
   "cell_type": "code",
   "execution_count": 10,
   "id": "f6da4a7e",
   "metadata": {},
   "outputs": [
    {
     "data": {
      "application/javascript": [
       "\n",
       "            setTimeout(function() {\n",
       "                var nbb_cell_id = 10;\n",
       "                var nbb_unformatted_code = \"cols = ['mfcc_'+str(i) for i in range(1,21)]\\ndata2 = pd.DataFrame(mfcc , columns = cols)\\ndata2['user_id'] = user_id\";\n",
       "                var nbb_formatted_code = \"cols = [\\\"mfcc_\\\" + str(i) for i in range(1, 21)]\\ndata2 = pd.DataFrame(mfcc, columns=cols)\\ndata2[\\\"user_id\\\"] = user_id\";\n",
       "                var nbb_cells = Jupyter.notebook.get_cells();\n",
       "                for (var i = 0; i < nbb_cells.length; ++i) {\n",
       "                    if (nbb_cells[i].input_prompt_number == nbb_cell_id) {\n",
       "                        if (nbb_cells[i].get_text() == nbb_unformatted_code) {\n",
       "                             nbb_cells[i].set_text(nbb_formatted_code);\n",
       "                        }\n",
       "                        break;\n",
       "                    }\n",
       "                }\n",
       "            }, 500);\n",
       "            "
      ],
      "text/plain": [
       "<IPython.core.display.Javascript object>"
      ]
     },
     "metadata": {},
     "output_type": "display_data"
    }
   ],
   "source": [
    "cols = [\"mfcc_\" + str(i) for i in range(1, 21)]\n",
    "data2 = pd.DataFrame(mfcc, columns=cols)\n",
    "data2[\"user_id\"] = user_id"
   ]
  },
  {
   "cell_type": "code",
   "execution_count": 11,
   "id": "317a4887",
   "metadata": {},
   "outputs": [
    {
     "data": {
      "text/html": [
       "<div>\n",
       "<style scoped>\n",
       "    .dataframe tbody tr th:only-of-type {\n",
       "        vertical-align: middle;\n",
       "    }\n",
       "\n",
       "    .dataframe tbody tr th {\n",
       "        vertical-align: top;\n",
       "    }\n",
       "\n",
       "    .dataframe thead th {\n",
       "        text-align: right;\n",
       "    }\n",
       "</style>\n",
       "<table border=\"1\" class=\"dataframe\">\n",
       "  <thead>\n",
       "    <tr style=\"text-align: right;\">\n",
       "      <th></th>\n",
       "      <th>user_id</th>\n",
       "      <th>filepath</th>\n",
       "      <th>RMSE</th>\n",
       "      <th>chroma_stft</th>\n",
       "      <th>spec_cent</th>\n",
       "      <th>spec_bw</th>\n",
       "      <th>spec_rolloff</th>\n",
       "      <th>zcr</th>\n",
       "    </tr>\n",
       "  </thead>\n",
       "  <tbody>\n",
       "    <tr>\n",
       "      <th>0</th>\n",
       "      <td>7DfMFXPDu3W2Fxjs8w0OsLIY8em1</td>\n",
       "      <td>COVID-19/7DfMFXPDu3W2Fxjs8w0OsLIY8em1/vowel-o.wav</td>\n",
       "      <td>0.118379</td>\n",
       "      <td>0.253389</td>\n",
       "      <td>1390.837727</td>\n",
       "      <td>1459.099553</td>\n",
       "      <td>2264.121835</td>\n",
       "      <td>0.034621</td>\n",
       "    </tr>\n",
       "    <tr>\n",
       "      <th>1</th>\n",
       "      <td>7DfMFXPDu3W2Fxjs8w0OsLIY8em1</td>\n",
       "      <td>COVID-19/7DfMFXPDu3W2Fxjs8w0OsLIY8em1/vowel-a.wav</td>\n",
       "      <td>0.144788</td>\n",
       "      <td>0.246714</td>\n",
       "      <td>1774.427666</td>\n",
       "      <td>2057.234269</td>\n",
       "      <td>3452.113464</td>\n",
       "      <td>0.020360</td>\n",
       "    </tr>\n",
       "    <tr>\n",
       "      <th>2</th>\n",
       "      <td>7DfMFXPDu3W2Fxjs8w0OsLIY8em1</td>\n",
       "      <td>COVID-19/7DfMFXPDu3W2Fxjs8w0OsLIY8em1/breathin...</td>\n",
       "      <td>0.000135</td>\n",
       "      <td>0.495409</td>\n",
       "      <td>5502.609625</td>\n",
       "      <td>5720.697350</td>\n",
       "      <td>11688.208532</td>\n",
       "      <td>0.051564</td>\n",
       "    </tr>\n",
       "    <tr>\n",
       "      <th>3</th>\n",
       "      <td>7DfMFXPDu3W2Fxjs8w0OsLIY8em1</td>\n",
       "      <td>COVID-19/7DfMFXPDu3W2Fxjs8w0OsLIY8em1/cough-sh...</td>\n",
       "      <td>0.018265</td>\n",
       "      <td>0.434287</td>\n",
       "      <td>4009.550598</td>\n",
       "      <td>4088.996725</td>\n",
       "      <td>7927.490831</td>\n",
       "      <td>0.065998</td>\n",
       "    </tr>\n",
       "    <tr>\n",
       "      <th>4</th>\n",
       "      <td>7DfMFXPDu3W2Fxjs8w0OsLIY8em1</td>\n",
       "      <td>COVID-19/7DfMFXPDu3W2Fxjs8w0OsLIY8em1/vowel-e.wav</td>\n",
       "      <td>0.107049</td>\n",
       "      <td>0.297738</td>\n",
       "      <td>1623.703648</td>\n",
       "      <td>2021.015855</td>\n",
       "      <td>3080.055950</td>\n",
       "      <td>0.024948</td>\n",
       "    </tr>\n",
       "  </tbody>\n",
       "</table>\n",
       "</div>"
      ],
      "text/plain": [
       "                        user_id  \\\n",
       "0  7DfMFXPDu3W2Fxjs8w0OsLIY8em1   \n",
       "1  7DfMFXPDu3W2Fxjs8w0OsLIY8em1   \n",
       "2  7DfMFXPDu3W2Fxjs8w0OsLIY8em1   \n",
       "3  7DfMFXPDu3W2Fxjs8w0OsLIY8em1   \n",
       "4  7DfMFXPDu3W2Fxjs8w0OsLIY8em1   \n",
       "\n",
       "                                            filepath      RMSE  chroma_stft  \\\n",
       "0  COVID-19/7DfMFXPDu3W2Fxjs8w0OsLIY8em1/vowel-o.wav  0.118379     0.253389   \n",
       "1  COVID-19/7DfMFXPDu3W2Fxjs8w0OsLIY8em1/vowel-a.wav  0.144788     0.246714   \n",
       "2  COVID-19/7DfMFXPDu3W2Fxjs8w0OsLIY8em1/breathin...  0.000135     0.495409   \n",
       "3  COVID-19/7DfMFXPDu3W2Fxjs8w0OsLIY8em1/cough-sh...  0.018265     0.434287   \n",
       "4  COVID-19/7DfMFXPDu3W2Fxjs8w0OsLIY8em1/vowel-e.wav  0.107049     0.297738   \n",
       "\n",
       "     spec_cent      spec_bw  spec_rolloff       zcr  \n",
       "0  1390.837727  1459.099553   2264.121835  0.034621  \n",
       "1  1774.427666  2057.234269   3452.113464  0.020360  \n",
       "2  5502.609625  5720.697350  11688.208532  0.051564  \n",
       "3  4009.550598  4088.996725   7927.490831  0.065998  \n",
       "4  1623.703648  2021.015855   3080.055950  0.024948  "
      ]
     },
     "execution_count": 11,
     "metadata": {},
     "output_type": "execute_result"
    },
    {
     "data": {
      "application/javascript": [
       "\n",
       "            setTimeout(function() {\n",
       "                var nbb_cell_id = 11;\n",
       "                var nbb_unformatted_code = \"data1.head()\";\n",
       "                var nbb_formatted_code = \"data1.head()\";\n",
       "                var nbb_cells = Jupyter.notebook.get_cells();\n",
       "                for (var i = 0; i < nbb_cells.length; ++i) {\n",
       "                    if (nbb_cells[i].input_prompt_number == nbb_cell_id) {\n",
       "                        if (nbb_cells[i].get_text() == nbb_unformatted_code) {\n",
       "                             nbb_cells[i].set_text(nbb_formatted_code);\n",
       "                        }\n",
       "                        break;\n",
       "                    }\n",
       "                }\n",
       "            }, 500);\n",
       "            "
      ],
      "text/plain": [
       "<IPython.core.display.Javascript object>"
      ]
     },
     "metadata": {},
     "output_type": "display_data"
    }
   ],
   "source": [
    "data1.head()"
   ]
  },
  {
   "cell_type": "code",
   "execution_count": 12,
   "id": "778852b6",
   "metadata": {},
   "outputs": [
    {
     "data": {
      "text/html": [
       "<div>\n",
       "<style scoped>\n",
       "    .dataframe tbody tr th:only-of-type {\n",
       "        vertical-align: middle;\n",
       "    }\n",
       "\n",
       "    .dataframe tbody tr th {\n",
       "        vertical-align: top;\n",
       "    }\n",
       "\n",
       "    .dataframe thead th {\n",
       "        text-align: right;\n",
       "    }\n",
       "</style>\n",
       "<table border=\"1\" class=\"dataframe\">\n",
       "  <thead>\n",
       "    <tr style=\"text-align: right;\">\n",
       "      <th></th>\n",
       "      <th>mfcc_1</th>\n",
       "      <th>mfcc_2</th>\n",
       "      <th>mfcc_3</th>\n",
       "      <th>mfcc_4</th>\n",
       "      <th>mfcc_5</th>\n",
       "      <th>mfcc_6</th>\n",
       "      <th>mfcc_7</th>\n",
       "      <th>mfcc_8</th>\n",
       "      <th>mfcc_9</th>\n",
       "      <th>mfcc_10</th>\n",
       "      <th>...</th>\n",
       "      <th>mfcc_12</th>\n",
       "      <th>mfcc_13</th>\n",
       "      <th>mfcc_14</th>\n",
       "      <th>mfcc_15</th>\n",
       "      <th>mfcc_16</th>\n",
       "      <th>mfcc_17</th>\n",
       "      <th>mfcc_18</th>\n",
       "      <th>mfcc_19</th>\n",
       "      <th>mfcc_20</th>\n",
       "      <th>user_id</th>\n",
       "    </tr>\n",
       "  </thead>\n",
       "  <tbody>\n",
       "    <tr>\n",
       "      <th>0</th>\n",
       "      <td>-363.377258</td>\n",
       "      <td>144.358337</td>\n",
       "      <td>27.980934</td>\n",
       "      <td>15.131627</td>\n",
       "      <td>-4.168990</td>\n",
       "      <td>-31.025049</td>\n",
       "      <td>-20.511789</td>\n",
       "      <td>-20.623474</td>\n",
       "      <td>-23.285761</td>\n",
       "      <td>-15.352588</td>\n",
       "      <td>...</td>\n",
       "      <td>-14.310049</td>\n",
       "      <td>1.837768</td>\n",
       "      <td>-9.357093</td>\n",
       "      <td>-16.901194</td>\n",
       "      <td>-8.871928</td>\n",
       "      <td>-11.130017</td>\n",
       "      <td>-10.805934</td>\n",
       "      <td>-3.902681</td>\n",
       "      <td>-4.770747</td>\n",
       "      <td>7DfMFXPDu3W2Fxjs8w0OsLIY8em1</td>\n",
       "    </tr>\n",
       "    <tr>\n",
       "      <th>1</th>\n",
       "      <td>-345.390533</td>\n",
       "      <td>124.867485</td>\n",
       "      <td>-4.307336</td>\n",
       "      <td>19.490623</td>\n",
       "      <td>7.525982</td>\n",
       "      <td>-17.402979</td>\n",
       "      <td>6.819692</td>\n",
       "      <td>-16.135691</td>\n",
       "      <td>-42.735359</td>\n",
       "      <td>-21.941904</td>\n",
       "      <td>...</td>\n",
       "      <td>-20.900917</td>\n",
       "      <td>-10.857018</td>\n",
       "      <td>-14.837809</td>\n",
       "      <td>-15.201618</td>\n",
       "      <td>-5.872452</td>\n",
       "      <td>-1.326357</td>\n",
       "      <td>-1.137605</td>\n",
       "      <td>-7.114715</td>\n",
       "      <td>-6.406201</td>\n",
       "      <td>7DfMFXPDu3W2Fxjs8w0OsLIY8em1</td>\n",
       "    </tr>\n",
       "    <tr>\n",
       "      <th>2</th>\n",
       "      <td>-860.161987</td>\n",
       "      <td>97.513298</td>\n",
       "      <td>-21.191671</td>\n",
       "      <td>8.036111</td>\n",
       "      <td>6.223122</td>\n",
       "      <td>-6.836332</td>\n",
       "      <td>8.026308</td>\n",
       "      <td>2.952522</td>\n",
       "      <td>-10.468498</td>\n",
       "      <td>1.575670</td>\n",
       "      <td>...</td>\n",
       "      <td>-7.578856</td>\n",
       "      <td>-0.824565</td>\n",
       "      <td>-0.376975</td>\n",
       "      <td>-6.388448</td>\n",
       "      <td>-2.045947</td>\n",
       "      <td>0.254025</td>\n",
       "      <td>-0.853397</td>\n",
       "      <td>-0.025326</td>\n",
       "      <td>-0.848093</td>\n",
       "      <td>7DfMFXPDu3W2Fxjs8w0OsLIY8em1</td>\n",
       "    </tr>\n",
       "    <tr>\n",
       "      <th>3</th>\n",
       "      <td>-525.321655</td>\n",
       "      <td>51.241253</td>\n",
       "      <td>-15.734446</td>\n",
       "      <td>-2.986843</td>\n",
       "      <td>5.281782</td>\n",
       "      <td>-3.511705</td>\n",
       "      <td>3.455106</td>\n",
       "      <td>-0.633038</td>\n",
       "      <td>-9.138741</td>\n",
       "      <td>-4.899961</td>\n",
       "      <td>...</td>\n",
       "      <td>-4.711785</td>\n",
       "      <td>-0.084784</td>\n",
       "      <td>-2.399943</td>\n",
       "      <td>-2.744585</td>\n",
       "      <td>0.439062</td>\n",
       "      <td>-1.520346</td>\n",
       "      <td>-1.996574</td>\n",
       "      <td>0.463630</td>\n",
       "      <td>-0.533586</td>\n",
       "      <td>7DfMFXPDu3W2Fxjs8w0OsLIY8em1</td>\n",
       "    </tr>\n",
       "    <tr>\n",
       "      <th>4</th>\n",
       "      <td>-406.449951</td>\n",
       "      <td>121.712585</td>\n",
       "      <td>16.063465</td>\n",
       "      <td>29.269457</td>\n",
       "      <td>18.560997</td>\n",
       "      <td>-3.910539</td>\n",
       "      <td>12.661272</td>\n",
       "      <td>-5.819675</td>\n",
       "      <td>-28.114544</td>\n",
       "      <td>-12.038963</td>\n",
       "      <td>...</td>\n",
       "      <td>-16.488800</td>\n",
       "      <td>-6.080915</td>\n",
       "      <td>-11.323594</td>\n",
       "      <td>-14.311434</td>\n",
       "      <td>-7.020574</td>\n",
       "      <td>-10.257932</td>\n",
       "      <td>-9.524367</td>\n",
       "      <td>-6.419607</td>\n",
       "      <td>-11.246635</td>\n",
       "      <td>7DfMFXPDu3W2Fxjs8w0OsLIY8em1</td>\n",
       "    </tr>\n",
       "  </tbody>\n",
       "</table>\n",
       "<p>5 rows × 21 columns</p>\n",
       "</div>"
      ],
      "text/plain": [
       "       mfcc_1      mfcc_2     mfcc_3     mfcc_4     mfcc_5     mfcc_6  \\\n",
       "0 -363.377258  144.358337  27.980934  15.131627  -4.168990 -31.025049   \n",
       "1 -345.390533  124.867485  -4.307336  19.490623   7.525982 -17.402979   \n",
       "2 -860.161987   97.513298 -21.191671   8.036111   6.223122  -6.836332   \n",
       "3 -525.321655   51.241253 -15.734446  -2.986843   5.281782  -3.511705   \n",
       "4 -406.449951  121.712585  16.063465  29.269457  18.560997  -3.910539   \n",
       "\n",
       "      mfcc_7     mfcc_8     mfcc_9    mfcc_10  ...    mfcc_12    mfcc_13  \\\n",
       "0 -20.511789 -20.623474 -23.285761 -15.352588  ... -14.310049   1.837768   \n",
       "1   6.819692 -16.135691 -42.735359 -21.941904  ... -20.900917 -10.857018   \n",
       "2   8.026308   2.952522 -10.468498   1.575670  ...  -7.578856  -0.824565   \n",
       "3   3.455106  -0.633038  -9.138741  -4.899961  ...  -4.711785  -0.084784   \n",
       "4  12.661272  -5.819675 -28.114544 -12.038963  ... -16.488800  -6.080915   \n",
       "\n",
       "     mfcc_14    mfcc_15   mfcc_16    mfcc_17    mfcc_18   mfcc_19    mfcc_20  \\\n",
       "0  -9.357093 -16.901194 -8.871928 -11.130017 -10.805934 -3.902681  -4.770747   \n",
       "1 -14.837809 -15.201618 -5.872452  -1.326357  -1.137605 -7.114715  -6.406201   \n",
       "2  -0.376975  -6.388448 -2.045947   0.254025  -0.853397 -0.025326  -0.848093   \n",
       "3  -2.399943  -2.744585  0.439062  -1.520346  -1.996574  0.463630  -0.533586   \n",
       "4 -11.323594 -14.311434 -7.020574 -10.257932  -9.524367 -6.419607 -11.246635   \n",
       "\n",
       "                        user_id  \n",
       "0  7DfMFXPDu3W2Fxjs8w0OsLIY8em1  \n",
       "1  7DfMFXPDu3W2Fxjs8w0OsLIY8em1  \n",
       "2  7DfMFXPDu3W2Fxjs8w0OsLIY8em1  \n",
       "3  7DfMFXPDu3W2Fxjs8w0OsLIY8em1  \n",
       "4  7DfMFXPDu3W2Fxjs8w0OsLIY8em1  \n",
       "\n",
       "[5 rows x 21 columns]"
      ]
     },
     "execution_count": 12,
     "metadata": {},
     "output_type": "execute_result"
    },
    {
     "data": {
      "application/javascript": [
       "\n",
       "            setTimeout(function() {\n",
       "                var nbb_cell_id = 12;\n",
       "                var nbb_unformatted_code = \"data2.head()\";\n",
       "                var nbb_formatted_code = \"data2.head()\";\n",
       "                var nbb_cells = Jupyter.notebook.get_cells();\n",
       "                for (var i = 0; i < nbb_cells.length; ++i) {\n",
       "                    if (nbb_cells[i].input_prompt_number == nbb_cell_id) {\n",
       "                        if (nbb_cells[i].get_text() == nbb_unformatted_code) {\n",
       "                             nbb_cells[i].set_text(nbb_formatted_code);\n",
       "                        }\n",
       "                        break;\n",
       "                    }\n",
       "                }\n",
       "            }, 500);\n",
       "            "
      ],
      "text/plain": [
       "<IPython.core.display.Javascript object>"
      ]
     },
     "metadata": {},
     "output_type": "display_data"
    }
   ],
   "source": [
    "data2.head()"
   ]
  },
  {
   "cell_type": "code",
   "execution_count": 32,
   "id": "44133e76",
   "metadata": {},
   "outputs": [
    {
     "data": {
      "application/javascript": [
       "\n",
       "            setTimeout(function() {\n",
       "                var nbb_cell_id = 32;\n",
       "                var nbb_unformatted_code = \"data = pd.concat([data1, data2], axis=1)\";\n",
       "                var nbb_formatted_code = \"data = pd.concat([data1, data2], axis=1)\";\n",
       "                var nbb_cells = Jupyter.notebook.get_cells();\n",
       "                for (var i = 0; i < nbb_cells.length; ++i) {\n",
       "                    if (nbb_cells[i].input_prompt_number == nbb_cell_id) {\n",
       "                        if (nbb_cells[i].get_text() == nbb_unformatted_code) {\n",
       "                             nbb_cells[i].set_text(nbb_formatted_code);\n",
       "                        }\n",
       "                        break;\n",
       "                    }\n",
       "                }\n",
       "            }, 500);\n",
       "            "
      ],
      "text/plain": [
       "<IPython.core.display.Javascript object>"
      ]
     },
     "metadata": {},
     "output_type": "display_data"
    }
   ],
   "source": [
    "data = pd.concat([data1, data2], axis=1)"
   ]
  },
  {
   "cell_type": "code",
   "execution_count": 33,
   "id": "11ece61a",
   "metadata": {},
   "outputs": [
    {
     "data": {
      "text/plain": [
       "(3798, 29)"
      ]
     },
     "execution_count": 33,
     "metadata": {},
     "output_type": "execute_result"
    },
    {
     "data": {
      "application/javascript": [
       "\n",
       "            setTimeout(function() {\n",
       "                var nbb_cell_id = 33;\n",
       "                var nbb_unformatted_code = \"data.shape\";\n",
       "                var nbb_formatted_code = \"data.shape\";\n",
       "                var nbb_cells = Jupyter.notebook.get_cells();\n",
       "                for (var i = 0; i < nbb_cells.length; ++i) {\n",
       "                    if (nbb_cells[i].input_prompt_number == nbb_cell_id) {\n",
       "                        if (nbb_cells[i].get_text() == nbb_unformatted_code) {\n",
       "                             nbb_cells[i].set_text(nbb_formatted_code);\n",
       "                        }\n",
       "                        break;\n",
       "                    }\n",
       "                }\n",
       "            }, 500);\n",
       "            "
      ],
      "text/plain": [
       "<IPython.core.display.Javascript object>"
      ]
     },
     "metadata": {},
     "output_type": "display_data"
    }
   ],
   "source": [
    "data.shape"
   ]
  },
  {
   "cell_type": "code",
   "execution_count": 34,
   "id": "f5115244",
   "metadata": {},
   "outputs": [
    {
     "data": {
      "text/html": [
       "<div>\n",
       "<style scoped>\n",
       "    .dataframe tbody tr th:only-of-type {\n",
       "        vertical-align: middle;\n",
       "    }\n",
       "\n",
       "    .dataframe tbody tr th {\n",
       "        vertical-align: top;\n",
       "    }\n",
       "\n",
       "    .dataframe thead th {\n",
       "        text-align: right;\n",
       "    }\n",
       "</style>\n",
       "<table border=\"1\" class=\"dataframe\">\n",
       "  <thead>\n",
       "    <tr style=\"text-align: right;\">\n",
       "      <th></th>\n",
       "      <th>user_id</th>\n",
       "      <th>filepath</th>\n",
       "      <th>RMSE</th>\n",
       "      <th>chroma_stft</th>\n",
       "      <th>spec_cent</th>\n",
       "      <th>spec_bw</th>\n",
       "      <th>spec_rolloff</th>\n",
       "      <th>zcr</th>\n",
       "      <th>mfcc_1</th>\n",
       "      <th>mfcc_2</th>\n",
       "      <th>...</th>\n",
       "      <th>mfcc_12</th>\n",
       "      <th>mfcc_13</th>\n",
       "      <th>mfcc_14</th>\n",
       "      <th>mfcc_15</th>\n",
       "      <th>mfcc_16</th>\n",
       "      <th>mfcc_17</th>\n",
       "      <th>mfcc_18</th>\n",
       "      <th>mfcc_19</th>\n",
       "      <th>mfcc_20</th>\n",
       "      <th>user_id</th>\n",
       "    </tr>\n",
       "  </thead>\n",
       "  <tbody>\n",
       "    <tr>\n",
       "      <th>0</th>\n",
       "      <td>7DfMFXPDu3W2Fxjs8w0OsLIY8em1</td>\n",
       "      <td>COVID-19/7DfMFXPDu3W2Fxjs8w0OsLIY8em1/vowel-o.wav</td>\n",
       "      <td>0.118379</td>\n",
       "      <td>0.253389</td>\n",
       "      <td>1390.837727</td>\n",
       "      <td>1459.099553</td>\n",
       "      <td>2264.121835</td>\n",
       "      <td>0.034621</td>\n",
       "      <td>-363.377258</td>\n",
       "      <td>144.358337</td>\n",
       "      <td>...</td>\n",
       "      <td>-14.310049</td>\n",
       "      <td>1.837768</td>\n",
       "      <td>-9.357093</td>\n",
       "      <td>-16.901194</td>\n",
       "      <td>-8.871928</td>\n",
       "      <td>-11.130017</td>\n",
       "      <td>-10.805934</td>\n",
       "      <td>-3.902681</td>\n",
       "      <td>-4.770747</td>\n",
       "      <td>7DfMFXPDu3W2Fxjs8w0OsLIY8em1</td>\n",
       "    </tr>\n",
       "    <tr>\n",
       "      <th>1</th>\n",
       "      <td>7DfMFXPDu3W2Fxjs8w0OsLIY8em1</td>\n",
       "      <td>COVID-19/7DfMFXPDu3W2Fxjs8w0OsLIY8em1/vowel-a.wav</td>\n",
       "      <td>0.144788</td>\n",
       "      <td>0.246714</td>\n",
       "      <td>1774.427666</td>\n",
       "      <td>2057.234269</td>\n",
       "      <td>3452.113464</td>\n",
       "      <td>0.020360</td>\n",
       "      <td>-345.390533</td>\n",
       "      <td>124.867485</td>\n",
       "      <td>...</td>\n",
       "      <td>-20.900917</td>\n",
       "      <td>-10.857018</td>\n",
       "      <td>-14.837809</td>\n",
       "      <td>-15.201618</td>\n",
       "      <td>-5.872452</td>\n",
       "      <td>-1.326357</td>\n",
       "      <td>-1.137605</td>\n",
       "      <td>-7.114715</td>\n",
       "      <td>-6.406201</td>\n",
       "      <td>7DfMFXPDu3W2Fxjs8w0OsLIY8em1</td>\n",
       "    </tr>\n",
       "    <tr>\n",
       "      <th>2</th>\n",
       "      <td>7DfMFXPDu3W2Fxjs8w0OsLIY8em1</td>\n",
       "      <td>COVID-19/7DfMFXPDu3W2Fxjs8w0OsLIY8em1/breathin...</td>\n",
       "      <td>0.000135</td>\n",
       "      <td>0.495409</td>\n",
       "      <td>5502.609625</td>\n",
       "      <td>5720.697350</td>\n",
       "      <td>11688.208532</td>\n",
       "      <td>0.051564</td>\n",
       "      <td>-860.161987</td>\n",
       "      <td>97.513298</td>\n",
       "      <td>...</td>\n",
       "      <td>-7.578856</td>\n",
       "      <td>-0.824565</td>\n",
       "      <td>-0.376975</td>\n",
       "      <td>-6.388448</td>\n",
       "      <td>-2.045947</td>\n",
       "      <td>0.254025</td>\n",
       "      <td>-0.853397</td>\n",
       "      <td>-0.025326</td>\n",
       "      <td>-0.848093</td>\n",
       "      <td>7DfMFXPDu3W2Fxjs8w0OsLIY8em1</td>\n",
       "    </tr>\n",
       "    <tr>\n",
       "      <th>3</th>\n",
       "      <td>7DfMFXPDu3W2Fxjs8w0OsLIY8em1</td>\n",
       "      <td>COVID-19/7DfMFXPDu3W2Fxjs8w0OsLIY8em1/cough-sh...</td>\n",
       "      <td>0.018265</td>\n",
       "      <td>0.434287</td>\n",
       "      <td>4009.550598</td>\n",
       "      <td>4088.996725</td>\n",
       "      <td>7927.490831</td>\n",
       "      <td>0.065998</td>\n",
       "      <td>-525.321655</td>\n",
       "      <td>51.241253</td>\n",
       "      <td>...</td>\n",
       "      <td>-4.711785</td>\n",
       "      <td>-0.084784</td>\n",
       "      <td>-2.399943</td>\n",
       "      <td>-2.744585</td>\n",
       "      <td>0.439062</td>\n",
       "      <td>-1.520346</td>\n",
       "      <td>-1.996574</td>\n",
       "      <td>0.463630</td>\n",
       "      <td>-0.533586</td>\n",
       "      <td>7DfMFXPDu3W2Fxjs8w0OsLIY8em1</td>\n",
       "    </tr>\n",
       "    <tr>\n",
       "      <th>4</th>\n",
       "      <td>7DfMFXPDu3W2Fxjs8w0OsLIY8em1</td>\n",
       "      <td>COVID-19/7DfMFXPDu3W2Fxjs8w0OsLIY8em1/vowel-e.wav</td>\n",
       "      <td>0.107049</td>\n",
       "      <td>0.297738</td>\n",
       "      <td>1623.703648</td>\n",
       "      <td>2021.015855</td>\n",
       "      <td>3080.055950</td>\n",
       "      <td>0.024948</td>\n",
       "      <td>-406.449951</td>\n",
       "      <td>121.712585</td>\n",
       "      <td>...</td>\n",
       "      <td>-16.488800</td>\n",
       "      <td>-6.080915</td>\n",
       "      <td>-11.323594</td>\n",
       "      <td>-14.311434</td>\n",
       "      <td>-7.020574</td>\n",
       "      <td>-10.257932</td>\n",
       "      <td>-9.524367</td>\n",
       "      <td>-6.419607</td>\n",
       "      <td>-11.246635</td>\n",
       "      <td>7DfMFXPDu3W2Fxjs8w0OsLIY8em1</td>\n",
       "    </tr>\n",
       "  </tbody>\n",
       "</table>\n",
       "<p>5 rows × 29 columns</p>\n",
       "</div>"
      ],
      "text/plain": [
       "                        user_id  \\\n",
       "0  7DfMFXPDu3W2Fxjs8w0OsLIY8em1   \n",
       "1  7DfMFXPDu3W2Fxjs8w0OsLIY8em1   \n",
       "2  7DfMFXPDu3W2Fxjs8w0OsLIY8em1   \n",
       "3  7DfMFXPDu3W2Fxjs8w0OsLIY8em1   \n",
       "4  7DfMFXPDu3W2Fxjs8w0OsLIY8em1   \n",
       "\n",
       "                                            filepath      RMSE  chroma_stft  \\\n",
       "0  COVID-19/7DfMFXPDu3W2Fxjs8w0OsLIY8em1/vowel-o.wav  0.118379     0.253389   \n",
       "1  COVID-19/7DfMFXPDu3W2Fxjs8w0OsLIY8em1/vowel-a.wav  0.144788     0.246714   \n",
       "2  COVID-19/7DfMFXPDu3W2Fxjs8w0OsLIY8em1/breathin...  0.000135     0.495409   \n",
       "3  COVID-19/7DfMFXPDu3W2Fxjs8w0OsLIY8em1/cough-sh...  0.018265     0.434287   \n",
       "4  COVID-19/7DfMFXPDu3W2Fxjs8w0OsLIY8em1/vowel-e.wav  0.107049     0.297738   \n",
       "\n",
       "     spec_cent      spec_bw  spec_rolloff       zcr      mfcc_1      mfcc_2  \\\n",
       "0  1390.837727  1459.099553   2264.121835  0.034621 -363.377258  144.358337   \n",
       "1  1774.427666  2057.234269   3452.113464  0.020360 -345.390533  124.867485   \n",
       "2  5502.609625  5720.697350  11688.208532  0.051564 -860.161987   97.513298   \n",
       "3  4009.550598  4088.996725   7927.490831  0.065998 -525.321655   51.241253   \n",
       "4  1623.703648  2021.015855   3080.055950  0.024948 -406.449951  121.712585   \n",
       "\n",
       "   ...    mfcc_12    mfcc_13    mfcc_14    mfcc_15   mfcc_16    mfcc_17  \\\n",
       "0  ... -14.310049   1.837768  -9.357093 -16.901194 -8.871928 -11.130017   \n",
       "1  ... -20.900917 -10.857018 -14.837809 -15.201618 -5.872452  -1.326357   \n",
       "2  ...  -7.578856  -0.824565  -0.376975  -6.388448 -2.045947   0.254025   \n",
       "3  ...  -4.711785  -0.084784  -2.399943  -2.744585  0.439062  -1.520346   \n",
       "4  ... -16.488800  -6.080915 -11.323594 -14.311434 -7.020574 -10.257932   \n",
       "\n",
       "     mfcc_18   mfcc_19    mfcc_20                       user_id  \n",
       "0 -10.805934 -3.902681  -4.770747  7DfMFXPDu3W2Fxjs8w0OsLIY8em1  \n",
       "1  -1.137605 -7.114715  -6.406201  7DfMFXPDu3W2Fxjs8w0OsLIY8em1  \n",
       "2  -0.853397 -0.025326  -0.848093  7DfMFXPDu3W2Fxjs8w0OsLIY8em1  \n",
       "3  -1.996574  0.463630  -0.533586  7DfMFXPDu3W2Fxjs8w0OsLIY8em1  \n",
       "4  -9.524367 -6.419607 -11.246635  7DfMFXPDu3W2Fxjs8w0OsLIY8em1  \n",
       "\n",
       "[5 rows x 29 columns]"
      ]
     },
     "execution_count": 34,
     "metadata": {},
     "output_type": "execute_result"
    },
    {
     "data": {
      "application/javascript": [
       "\n",
       "            setTimeout(function() {\n",
       "                var nbb_cell_id = 34;\n",
       "                var nbb_unformatted_code = \"data.head()\";\n",
       "                var nbb_formatted_code = \"data.head()\";\n",
       "                var nbb_cells = Jupyter.notebook.get_cells();\n",
       "                for (var i = 0; i < nbb_cells.length; ++i) {\n",
       "                    if (nbb_cells[i].input_prompt_number == nbb_cell_id) {\n",
       "                        if (nbb_cells[i].get_text() == nbb_unformatted_code) {\n",
       "                             nbb_cells[i].set_text(nbb_formatted_code);\n",
       "                        }\n",
       "                        break;\n",
       "                    }\n",
       "                }\n",
       "            }, 500);\n",
       "            "
      ],
      "text/plain": [
       "<IPython.core.display.Javascript object>"
      ]
     },
     "metadata": {},
     "output_type": "display_data"
    }
   ],
   "source": [
    "data.head()"
   ]
  },
  {
   "cell_type": "code",
   "execution_count": 5,
   "id": "c96750cf",
   "metadata": {},
   "outputs": [
    {
     "data": {
      "application/javascript": [
       "\n",
       "            setTimeout(function() {\n",
       "                var nbb_cell_id = 5;\n",
       "                var nbb_unformatted_code = \"file_le = LabelEncoder()\\nfile_le.classes_ = np.load(\\\"file_le.npy\\\", allow_pickle=True)\\n\\n# data[\\\"filename\\\"] = data[\\\"filepath\\\"].apply(lambda x: x.split(\\\"/\\\")[2])\\n# data[\\\"filename\\\"] = file_le.transform(data[\\\"filename\\\"])\\n\\n# data.drop([\\\"user_id\\\"], inplace=True, axis=1)\\n\\n# target data\\ncs_le = LabelEncoder()\\ncs_le.classes_ = np.load(\\\"cs_le.npy\\\", allow_pickle=True)\\n\\ntarget_data = np.load(\\\"target_data.npy\\\")\";\n",
       "                var nbb_formatted_code = \"file_le = LabelEncoder()\\nfile_le.classes_ = np.load(\\\"file_le.npy\\\", allow_pickle=True)\\n\\n# data[\\\"filename\\\"] = data[\\\"filepath\\\"].apply(lambda x: x.split(\\\"/\\\")[2])\\n# data[\\\"filename\\\"] = file_le.transform(data[\\\"filename\\\"])\\n\\n# data.drop([\\\"user_id\\\"], inplace=True, axis=1)\\n\\n# target data\\ncs_le = LabelEncoder()\\ncs_le.classes_ = np.load(\\\"cs_le.npy\\\", allow_pickle=True)\\n\\ntarget_data = np.load(\\\"target_data.npy\\\")\";\n",
       "                var nbb_cells = Jupyter.notebook.get_cells();\n",
       "                for (var i = 0; i < nbb_cells.length; ++i) {\n",
       "                    if (nbb_cells[i].input_prompt_number == nbb_cell_id) {\n",
       "                        if (nbb_cells[i].get_text() == nbb_unformatted_code) {\n",
       "                             nbb_cells[i].set_text(nbb_formatted_code);\n",
       "                        }\n",
       "                        break;\n",
       "                    }\n",
       "                }\n",
       "            }, 500);\n",
       "            "
      ],
      "text/plain": [
       "<IPython.core.display.Javascript object>"
      ]
     },
     "metadata": {},
     "output_type": "display_data"
    }
   ],
   "source": [
    "file_le = LabelEncoder()\n",
    "file_le.classes_ = np.load(\"file_le.npy\", allow_pickle=True)\n",
    "\n",
    "# data[\"filename\"] = data[\"filepath\"].apply(lambda x: x.split(\"/\")[2])\n",
    "# data[\"filename\"] = file_le.transform(data[\"filename\"])\n",
    "\n",
    "# data.drop([\"user_id\"], inplace=True, axis=1)\n",
    "\n",
    "# target data\n",
    "cs_le = LabelEncoder()\n",
    "cs_le.classes_ = np.load(\"cs_le.npy\", allow_pickle=True)\n",
    "\n",
    "target_data = np.load(\"target_data.npy\")"
   ]
  },
  {
   "cell_type": "code",
   "execution_count": 36,
   "id": "1fdc39d1",
   "metadata": {},
   "outputs": [
    {
     "data": {
      "application/javascript": [
       "\n",
       "            setTimeout(function() {\n",
       "                var nbb_cell_id = 36;\n",
       "                var nbb_unformatted_code = \"data.drop([\\\"filepath\\\"], inplace=True, axis=1)\";\n",
       "                var nbb_formatted_code = \"data.drop([\\\"filepath\\\"], inplace=True, axis=1)\";\n",
       "                var nbb_cells = Jupyter.notebook.get_cells();\n",
       "                for (var i = 0; i < nbb_cells.length; ++i) {\n",
       "                    if (nbb_cells[i].input_prompt_number == nbb_cell_id) {\n",
       "                        if (nbb_cells[i].get_text() == nbb_unformatted_code) {\n",
       "                             nbb_cells[i].set_text(nbb_formatted_code);\n",
       "                        }\n",
       "                        break;\n",
       "                    }\n",
       "                }\n",
       "            }, 500);\n",
       "            "
      ],
      "text/plain": [
       "<IPython.core.display.Javascript object>"
      ]
     },
     "metadata": {},
     "output_type": "display_data"
    }
   ],
   "source": [
    "data.drop([\"filepath\"], inplace=True, axis=1)"
   ]
  },
  {
   "cell_type": "code",
   "execution_count": 37,
   "id": "8011c83d",
   "metadata": {},
   "outputs": [
    {
     "data": {
      "application/javascript": [
       "\n",
       "            setTimeout(function() {\n",
       "                var nbb_cell_id = 37;\n",
       "                var nbb_unformatted_code = \"data.to_csv(\\\"mfcc_and_features.csv\\\", index=False)\";\n",
       "                var nbb_formatted_code = \"data.to_csv(\\\"mfcc_and_features.csv\\\", index=False)\";\n",
       "                var nbb_cells = Jupyter.notebook.get_cells();\n",
       "                for (var i = 0; i < nbb_cells.length; ++i) {\n",
       "                    if (nbb_cells[i].input_prompt_number == nbb_cell_id) {\n",
       "                        if (nbb_cells[i].get_text() == nbb_unformatted_code) {\n",
       "                             nbb_cells[i].set_text(nbb_formatted_code);\n",
       "                        }\n",
       "                        break;\n",
       "                    }\n",
       "                }\n",
       "            }, 500);\n",
       "            "
      ],
      "text/plain": [
       "<IPython.core.display.Javascript object>"
      ]
     },
     "metadata": {},
     "output_type": "display_data"
    }
   ],
   "source": [
    "# data.to_csv(\"mfcc_and_features.csv\", index=False)"
   ]
  },
  {
   "cell_type": "code",
   "execution_count": 38,
   "id": "d8e7ccb6",
   "metadata": {},
   "outputs": [
    {
     "data": {
      "text/html": [
       "<div>\n",
       "<style scoped>\n",
       "    .dataframe tbody tr th:only-of-type {\n",
       "        vertical-align: middle;\n",
       "    }\n",
       "\n",
       "    .dataframe tbody tr th {\n",
       "        vertical-align: top;\n",
       "    }\n",
       "\n",
       "    .dataframe thead th {\n",
       "        text-align: right;\n",
       "    }\n",
       "</style>\n",
       "<table border=\"1\" class=\"dataframe\">\n",
       "  <thead>\n",
       "    <tr style=\"text-align: right;\">\n",
       "      <th></th>\n",
       "      <th>RMSE</th>\n",
       "      <th>chroma_stft</th>\n",
       "      <th>spec_cent</th>\n",
       "      <th>spec_bw</th>\n",
       "      <th>spec_rolloff</th>\n",
       "      <th>zcr</th>\n",
       "      <th>mfcc_1</th>\n",
       "      <th>mfcc_2</th>\n",
       "      <th>mfcc_3</th>\n",
       "      <th>mfcc_4</th>\n",
       "      <th>...</th>\n",
       "      <th>mfcc_12</th>\n",
       "      <th>mfcc_13</th>\n",
       "      <th>mfcc_14</th>\n",
       "      <th>mfcc_15</th>\n",
       "      <th>mfcc_16</th>\n",
       "      <th>mfcc_17</th>\n",
       "      <th>mfcc_18</th>\n",
       "      <th>mfcc_19</th>\n",
       "      <th>mfcc_20</th>\n",
       "      <th>filename</th>\n",
       "    </tr>\n",
       "  </thead>\n",
       "  <tbody>\n",
       "    <tr>\n",
       "      <th>0</th>\n",
       "      <td>0.118379</td>\n",
       "      <td>0.253389</td>\n",
       "      <td>1390.837727</td>\n",
       "      <td>1459.099553</td>\n",
       "      <td>2264.121835</td>\n",
       "      <td>0.034621</td>\n",
       "      <td>-363.377258</td>\n",
       "      <td>144.358337</td>\n",
       "      <td>27.980934</td>\n",
       "      <td>15.131627</td>\n",
       "      <td>...</td>\n",
       "      <td>-14.310049</td>\n",
       "      <td>1.837768</td>\n",
       "      <td>-9.357093</td>\n",
       "      <td>-16.901194</td>\n",
       "      <td>-8.871928</td>\n",
       "      <td>-11.130017</td>\n",
       "      <td>-10.805934</td>\n",
       "      <td>-3.902681</td>\n",
       "      <td>-4.770747</td>\n",
       "      <td>8</td>\n",
       "    </tr>\n",
       "    <tr>\n",
       "      <th>1</th>\n",
       "      <td>0.144788</td>\n",
       "      <td>0.246714</td>\n",
       "      <td>1774.427666</td>\n",
       "      <td>2057.234269</td>\n",
       "      <td>3452.113464</td>\n",
       "      <td>0.020360</td>\n",
       "      <td>-345.390533</td>\n",
       "      <td>124.867485</td>\n",
       "      <td>-4.307336</td>\n",
       "      <td>19.490623</td>\n",
       "      <td>...</td>\n",
       "      <td>-20.900917</td>\n",
       "      <td>-10.857018</td>\n",
       "      <td>-14.837809</td>\n",
       "      <td>-15.201618</td>\n",
       "      <td>-5.872452</td>\n",
       "      <td>-1.326357</td>\n",
       "      <td>-1.137605</td>\n",
       "      <td>-7.114715</td>\n",
       "      <td>-6.406201</td>\n",
       "      <td>6</td>\n",
       "    </tr>\n",
       "    <tr>\n",
       "      <th>2</th>\n",
       "      <td>0.000135</td>\n",
       "      <td>0.495409</td>\n",
       "      <td>5502.609625</td>\n",
       "      <td>5720.697350</td>\n",
       "      <td>11688.208532</td>\n",
       "      <td>0.051564</td>\n",
       "      <td>-860.161987</td>\n",
       "      <td>97.513298</td>\n",
       "      <td>-21.191671</td>\n",
       "      <td>8.036111</td>\n",
       "      <td>...</td>\n",
       "      <td>-7.578856</td>\n",
       "      <td>-0.824565</td>\n",
       "      <td>-0.376975</td>\n",
       "      <td>-6.388448</td>\n",
       "      <td>-2.045947</td>\n",
       "      <td>0.254025</td>\n",
       "      <td>-0.853397</td>\n",
       "      <td>-0.025326</td>\n",
       "      <td>-0.848093</td>\n",
       "      <td>1</td>\n",
       "    </tr>\n",
       "    <tr>\n",
       "      <th>3</th>\n",
       "      <td>0.018265</td>\n",
       "      <td>0.434287</td>\n",
       "      <td>4009.550598</td>\n",
       "      <td>4088.996725</td>\n",
       "      <td>7927.490831</td>\n",
       "      <td>0.065998</td>\n",
       "      <td>-525.321655</td>\n",
       "      <td>51.241253</td>\n",
       "      <td>-15.734446</td>\n",
       "      <td>-2.986843</td>\n",
       "      <td>...</td>\n",
       "      <td>-4.711785</td>\n",
       "      <td>-0.084784</td>\n",
       "      <td>-2.399943</td>\n",
       "      <td>-2.744585</td>\n",
       "      <td>0.439062</td>\n",
       "      <td>-1.520346</td>\n",
       "      <td>-1.996574</td>\n",
       "      <td>0.463630</td>\n",
       "      <td>-0.533586</td>\n",
       "      <td>3</td>\n",
       "    </tr>\n",
       "    <tr>\n",
       "      <th>4</th>\n",
       "      <td>0.107049</td>\n",
       "      <td>0.297738</td>\n",
       "      <td>1623.703648</td>\n",
       "      <td>2021.015855</td>\n",
       "      <td>3080.055950</td>\n",
       "      <td>0.024948</td>\n",
       "      <td>-406.449951</td>\n",
       "      <td>121.712585</td>\n",
       "      <td>16.063465</td>\n",
       "      <td>29.269457</td>\n",
       "      <td>...</td>\n",
       "      <td>-16.488800</td>\n",
       "      <td>-6.080915</td>\n",
       "      <td>-11.323594</td>\n",
       "      <td>-14.311434</td>\n",
       "      <td>-7.020574</td>\n",
       "      <td>-10.257932</td>\n",
       "      <td>-9.524367</td>\n",
       "      <td>-6.419607</td>\n",
       "      <td>-11.246635</td>\n",
       "      <td>7</td>\n",
       "    </tr>\n",
       "  </tbody>\n",
       "</table>\n",
       "<p>5 rows × 27 columns</p>\n",
       "</div>"
      ],
      "text/plain": [
       "       RMSE  chroma_stft    spec_cent      spec_bw  spec_rolloff       zcr  \\\n",
       "0  0.118379     0.253389  1390.837727  1459.099553   2264.121835  0.034621   \n",
       "1  0.144788     0.246714  1774.427666  2057.234269   3452.113464  0.020360   \n",
       "2  0.000135     0.495409  5502.609625  5720.697350  11688.208532  0.051564   \n",
       "3  0.018265     0.434287  4009.550598  4088.996725   7927.490831  0.065998   \n",
       "4  0.107049     0.297738  1623.703648  2021.015855   3080.055950  0.024948   \n",
       "\n",
       "       mfcc_1      mfcc_2     mfcc_3     mfcc_4  ...    mfcc_12    mfcc_13  \\\n",
       "0 -363.377258  144.358337  27.980934  15.131627  ... -14.310049   1.837768   \n",
       "1 -345.390533  124.867485  -4.307336  19.490623  ... -20.900917 -10.857018   \n",
       "2 -860.161987   97.513298 -21.191671   8.036111  ...  -7.578856  -0.824565   \n",
       "3 -525.321655   51.241253 -15.734446  -2.986843  ...  -4.711785  -0.084784   \n",
       "4 -406.449951  121.712585  16.063465  29.269457  ... -16.488800  -6.080915   \n",
       "\n",
       "     mfcc_14    mfcc_15   mfcc_16    mfcc_17    mfcc_18   mfcc_19    mfcc_20  \\\n",
       "0  -9.357093 -16.901194 -8.871928 -11.130017 -10.805934 -3.902681  -4.770747   \n",
       "1 -14.837809 -15.201618 -5.872452  -1.326357  -1.137605 -7.114715  -6.406201   \n",
       "2  -0.376975  -6.388448 -2.045947   0.254025  -0.853397 -0.025326  -0.848093   \n",
       "3  -2.399943  -2.744585  0.439062  -1.520346  -1.996574  0.463630  -0.533586   \n",
       "4 -11.323594 -14.311434 -7.020574 -10.257932  -9.524367 -6.419607 -11.246635   \n",
       "\n",
       "   filename  \n",
       "0         8  \n",
       "1         6  \n",
       "2         1  \n",
       "3         3  \n",
       "4         7  \n",
       "\n",
       "[5 rows x 27 columns]"
      ]
     },
     "execution_count": 38,
     "metadata": {},
     "output_type": "execute_result"
    },
    {
     "data": {
      "application/javascript": [
       "\n",
       "            setTimeout(function() {\n",
       "                var nbb_cell_id = 38;\n",
       "                var nbb_unformatted_code = \"data.head()\";\n",
       "                var nbb_formatted_code = \"data.head()\";\n",
       "                var nbb_cells = Jupyter.notebook.get_cells();\n",
       "                for (var i = 0; i < nbb_cells.length; ++i) {\n",
       "                    if (nbb_cells[i].input_prompt_number == nbb_cell_id) {\n",
       "                        if (nbb_cells[i].get_text() == nbb_unformatted_code) {\n",
       "                             nbb_cells[i].set_text(nbb_formatted_code);\n",
       "                        }\n",
       "                        break;\n",
       "                    }\n",
       "                }\n",
       "            }, 500);\n",
       "            "
      ],
      "text/plain": [
       "<IPython.core.display.Javascript object>"
      ]
     },
     "metadata": {},
     "output_type": "display_data"
    }
   ],
   "source": [
    "data.head()"
   ]
  },
  {
   "cell_type": "code",
   "execution_count": 39,
   "id": "b1f7df57",
   "metadata": {},
   "outputs": [
    {
     "data": {
      "application/javascript": [
       "\n",
       "            setTimeout(function() {\n",
       "                var nbb_cell_id = 39;\n",
       "                var nbb_unformatted_code = \"fully_featured_data = data.values.reshape((422,9,27))\";\n",
       "                var nbb_formatted_code = \"fully_featured_data = data.values.reshape((422, 9, 27))\";\n",
       "                var nbb_cells = Jupyter.notebook.get_cells();\n",
       "                for (var i = 0; i < nbb_cells.length; ++i) {\n",
       "                    if (nbb_cells[i].input_prompt_number == nbb_cell_id) {\n",
       "                        if (nbb_cells[i].get_text() == nbb_unformatted_code) {\n",
       "                             nbb_cells[i].set_text(nbb_formatted_code);\n",
       "                        }\n",
       "                        break;\n",
       "                    }\n",
       "                }\n",
       "            }, 500);\n",
       "            "
      ],
      "text/plain": [
       "<IPython.core.display.Javascript object>"
      ]
     },
     "metadata": {},
     "output_type": "display_data"
    }
   ],
   "source": [
    "fully_featured_data = data.values.reshape((422, 9, 27))"
   ]
  },
  {
   "cell_type": "code",
   "execution_count": 40,
   "id": "db062b03",
   "metadata": {},
   "outputs": [
    {
     "data": {
      "text/plain": [
       "array([ 1.18379205e-01,  2.53389359e-01,  1.39083773e+03,  1.45909955e+03,\n",
       "        2.26412184e+03,  3.46209949e-02, -3.63377258e+02,  1.44358337e+02,\n",
       "        2.79809341e+01,  1.51316271e+01, -4.16899014e+00, -3.10250492e+01,\n",
       "       -2.05117893e+01, -2.06234741e+01, -2.32857609e+01, -1.53525877e+01,\n",
       "       -2.16012230e+01, -1.43100491e+01,  1.83776784e+00, -9.35709286e+00,\n",
       "       -1.69011936e+01, -8.87192822e+00, -1.11300173e+01, -1.08059340e+01,\n",
       "       -3.90268111e+00, -4.77074718e+00,  8.00000000e+00])"
      ]
     },
     "execution_count": 40,
     "metadata": {},
     "output_type": "execute_result"
    },
    {
     "data": {
      "application/javascript": [
       "\n",
       "            setTimeout(function() {\n",
       "                var nbb_cell_id = 40;\n",
       "                var nbb_unformatted_code = \"fully_featured_data[0][0]\";\n",
       "                var nbb_formatted_code = \"fully_featured_data[0][0]\";\n",
       "                var nbb_cells = Jupyter.notebook.get_cells();\n",
       "                for (var i = 0; i < nbb_cells.length; ++i) {\n",
       "                    if (nbb_cells[i].input_prompt_number == nbb_cell_id) {\n",
       "                        if (nbb_cells[i].get_text() == nbb_unformatted_code) {\n",
       "                             nbb_cells[i].set_text(nbb_formatted_code);\n",
       "                        }\n",
       "                        break;\n",
       "                    }\n",
       "                }\n",
       "            }, 500);\n",
       "            "
      ],
      "text/plain": [
       "<IPython.core.display.Javascript object>"
      ]
     },
     "metadata": {},
     "output_type": "display_data"
    }
   ],
   "source": [
    "fully_featured_data[0][0]"
   ]
  },
  {
   "cell_type": "code",
   "execution_count": 41,
   "id": "43cbbad9",
   "metadata": {},
   "outputs": [
    {
     "data": {
      "text/plain": [
       "RMSE               0.118379\n",
       "chroma_stft        0.253389\n",
       "spec_cent       1390.837727\n",
       "spec_bw         1459.099553\n",
       "spec_rolloff    2264.121835\n",
       "zcr                0.034621\n",
       "mfcc_1          -363.377258\n",
       "mfcc_2           144.358337\n",
       "mfcc_3            27.980934\n",
       "mfcc_4            15.131627\n",
       "mfcc_5            -4.168990\n",
       "mfcc_6           -31.025049\n",
       "mfcc_7           -20.511789\n",
       "mfcc_8           -20.623474\n",
       "mfcc_9           -23.285761\n",
       "mfcc_10          -15.352588\n",
       "mfcc_11          -21.601223\n",
       "mfcc_12          -14.310049\n",
       "mfcc_13            1.837768\n",
       "mfcc_14           -9.357093\n",
       "mfcc_15          -16.901194\n",
       "mfcc_16           -8.871928\n",
       "mfcc_17          -11.130017\n",
       "mfcc_18          -10.805934\n",
       "mfcc_19           -3.902681\n",
       "mfcc_20           -4.770747\n",
       "filename           8.000000\n",
       "Name: 0, dtype: float64"
      ]
     },
     "execution_count": 41,
     "metadata": {},
     "output_type": "execute_result"
    },
    {
     "data": {
      "application/javascript": [
       "\n",
       "            setTimeout(function() {\n",
       "                var nbb_cell_id = 41;\n",
       "                var nbb_unformatted_code = \"data.iloc[0]\";\n",
       "                var nbb_formatted_code = \"data.iloc[0]\";\n",
       "                var nbb_cells = Jupyter.notebook.get_cells();\n",
       "                for (var i = 0; i < nbb_cells.length; ++i) {\n",
       "                    if (nbb_cells[i].input_prompt_number == nbb_cell_id) {\n",
       "                        if (nbb_cells[i].get_text() == nbb_unformatted_code) {\n",
       "                             nbb_cells[i].set_text(nbb_formatted_code);\n",
       "                        }\n",
       "                        break;\n",
       "                    }\n",
       "                }\n",
       "            }, 500);\n",
       "            "
      ],
      "text/plain": [
       "<IPython.core.display.Javascript object>"
      ]
     },
     "metadata": {},
     "output_type": "display_data"
    }
   ],
   "source": [
    "data.iloc[0]"
   ]
  },
  {
   "cell_type": "code",
   "execution_count": 43,
   "id": "20c1db88",
   "metadata": {},
   "outputs": [
    {
     "data": {
      "application/javascript": [
       "\n",
       "            setTimeout(function() {\n",
       "                var nbb_cell_id = 43;\n",
       "                var nbb_unformatted_code = \"np.save(\\\"fully_featured_data.npy\\\", fully_featured_data)\";\n",
       "                var nbb_formatted_code = \"np.save(\\\"fully_featured_data.npy\\\", fully_featured_data)\";\n",
       "                var nbb_cells = Jupyter.notebook.get_cells();\n",
       "                for (var i = 0; i < nbb_cells.length; ++i) {\n",
       "                    if (nbb_cells[i].input_prompt_number == nbb_cell_id) {\n",
       "                        if (nbb_cells[i].get_text() == nbb_unformatted_code) {\n",
       "                             nbb_cells[i].set_text(nbb_formatted_code);\n",
       "                        }\n",
       "                        break;\n",
       "                    }\n",
       "                }\n",
       "            }, 500);\n",
       "            "
      ],
      "text/plain": [
       "<IPython.core.display.Javascript object>"
      ]
     },
     "metadata": {},
     "output_type": "display_data"
    }
   ],
   "source": [
    "np.save(\"fully_featured_data.npy\", fully_featured_data)"
   ]
  },
  {
   "cell_type": "markdown",
   "id": "47f25fe8",
   "metadata": {},
   "source": [
    "## Data Preparation\n",
    "* Order of Features Must Be Same\n",
    "    * RMSE\n",
    "    * Chroma_Stft\n",
    "    * Spec_cent\n",
    "    * Spec_bw\n",
    "    * Spec_rolloff\n",
    "    * Zcr\n",
    "    * MFCCs ( 1 to 20 )\n",
    "    * Filename ( filename => file_le.fit_transform )\n",
    "\n",
    "* Target:\n",
    "    * covid_status ( covid_status => cs_le.fit_transform )\n",
    "    \n",
    "    \n",
    "## File Information\n",
    "* **fully_featured_data.npy** : our final feature array of shape (422 ,9 ,27)\n",
    "* **targegt_data.npy** : final target array of shape (422 ,1)\n",
    "* **cs_le.npy** : covid_status label encoder classes\n",
    "* **file_le.npy** : filename label encoder classes"
   ]
  },
  {
   "cell_type": "markdown",
   "id": "2bb893d6",
   "metadata": {},
   "source": [
    "## Deep Learning Model"
   ]
  },
  {
   "cell_type": "code",
   "execution_count": 31,
   "id": "c9b7e494",
   "metadata": {},
   "outputs": [
    {
     "data": {
      "application/javascript": [
       "\n",
       "            setTimeout(function() {\n",
       "                var nbb_cell_id = 31;\n",
       "                var nbb_unformatted_code = \"fully_featured_data = np.load(\\\"fully_featured_data.npy\\\")\";\n",
       "                var nbb_formatted_code = \"fully_featured_data = np.load(\\\"fully_featured_data.npy\\\")\";\n",
       "                var nbb_cells = Jupyter.notebook.get_cells();\n",
       "                for (var i = 0; i < nbb_cells.length; ++i) {\n",
       "                    if (nbb_cells[i].input_prompt_number == nbb_cell_id) {\n",
       "                        if (nbb_cells[i].get_text() == nbb_unformatted_code) {\n",
       "                             nbb_cells[i].set_text(nbb_formatted_code);\n",
       "                        }\n",
       "                        break;\n",
       "                    }\n",
       "                }\n",
       "            }, 500);\n",
       "            "
      ],
      "text/plain": [
       "<IPython.core.display.Javascript object>"
      ]
     },
     "metadata": {},
     "output_type": "display_data"
    }
   ],
   "source": [
    "fully_featured_data = np.load(\"fully_featured_data.npy\")"
   ]
  },
  {
   "cell_type": "code",
   "execution_count": 32,
   "id": "71409d24",
   "metadata": {},
   "outputs": [
    {
     "data": {
      "text/plain": [
       "(422, 9, 27)"
      ]
     },
     "execution_count": 32,
     "metadata": {},
     "output_type": "execute_result"
    },
    {
     "data": {
      "application/javascript": [
       "\n",
       "            setTimeout(function() {\n",
       "                var nbb_cell_id = 32;\n",
       "                var nbb_unformatted_code = \"fully_featured_data.shape\";\n",
       "                var nbb_formatted_code = \"fully_featured_data.shape\";\n",
       "                var nbb_cells = Jupyter.notebook.get_cells();\n",
       "                for (var i = 0; i < nbb_cells.length; ++i) {\n",
       "                    if (nbb_cells[i].input_prompt_number == nbb_cell_id) {\n",
       "                        if (nbb_cells[i].get_text() == nbb_unformatted_code) {\n",
       "                             nbb_cells[i].set_text(nbb_formatted_code);\n",
       "                        }\n",
       "                        break;\n",
       "                    }\n",
       "                }\n",
       "            }, 500);\n",
       "            "
      ],
      "text/plain": [
       "<IPython.core.display.Javascript object>"
      ]
     },
     "metadata": {},
     "output_type": "display_data"
    }
   ],
   "source": [
    "fully_featured_data.shape"
   ]
  },
  {
   "cell_type": "code",
   "execution_count": 8,
   "id": "b222dcb7",
   "metadata": {},
   "outputs": [
    {
     "data": {
      "application/javascript": [
       "\n",
       "            setTimeout(function() {\n",
       "                var nbb_cell_id = 8;\n",
       "                var nbb_unformatted_code = \"fully_featured_data = fully_featured_data[...,np.newaxis]\";\n",
       "                var nbb_formatted_code = \"fully_featured_data = fully_featured_data[..., np.newaxis]\";\n",
       "                var nbb_cells = Jupyter.notebook.get_cells();\n",
       "                for (var i = 0; i < nbb_cells.length; ++i) {\n",
       "                    if (nbb_cells[i].input_prompt_number == nbb_cell_id) {\n",
       "                        if (nbb_cells[i].get_text() == nbb_unformatted_code) {\n",
       "                             nbb_cells[i].set_text(nbb_formatted_code);\n",
       "                        }\n",
       "                        break;\n",
       "                    }\n",
       "                }\n",
       "            }, 500);\n",
       "            "
      ],
      "text/plain": [
       "<IPython.core.display.Javascript object>"
      ]
     },
     "metadata": {},
     "output_type": "display_data"
    }
   ],
   "source": [
    "fully_featured_data = fully_featured_data[...,np.newaxis]"
   ]
  },
  {
   "cell_type": "code",
   "execution_count": 33,
   "id": "78cd20db",
   "metadata": {},
   "outputs": [
    {
     "data": {
      "text/plain": [
       "(422, 9, 27)"
      ]
     },
     "execution_count": 33,
     "metadata": {},
     "output_type": "execute_result"
    },
    {
     "data": {
      "application/javascript": [
       "\n",
       "            setTimeout(function() {\n",
       "                var nbb_cell_id = 33;\n",
       "                var nbb_unformatted_code = \"fully_featured_data.shape\";\n",
       "                var nbb_formatted_code = \"fully_featured_data.shape\";\n",
       "                var nbb_cells = Jupyter.notebook.get_cells();\n",
       "                for (var i = 0; i < nbb_cells.length; ++i) {\n",
       "                    if (nbb_cells[i].input_prompt_number == nbb_cell_id) {\n",
       "                        if (nbb_cells[i].get_text() == nbb_unformatted_code) {\n",
       "                             nbb_cells[i].set_text(nbb_formatted_code);\n",
       "                        }\n",
       "                        break;\n",
       "                    }\n",
       "                }\n",
       "            }, 500);\n",
       "            "
      ],
      "text/plain": [
       "<IPython.core.display.Javascript object>"
      ]
     },
     "metadata": {},
     "output_type": "display_data"
    }
   ],
   "source": [
    "fully_featured_data.shape"
   ]
  },
  {
   "cell_type": "code",
   "execution_count": 34,
   "id": "08e445d9",
   "metadata": {},
   "outputs": [
    {
     "data": {
      "application/javascript": [
       "\n",
       "            setTimeout(function() {\n",
       "                var nbb_cell_id = 34;\n",
       "                var nbb_unformatted_code = \"n_classes = len(cs_le.classes_)\";\n",
       "                var nbb_formatted_code = \"n_classes = len(cs_le.classes_)\";\n",
       "                var nbb_cells = Jupyter.notebook.get_cells();\n",
       "                for (var i = 0; i < nbb_cells.length; ++i) {\n",
       "                    if (nbb_cells[i].input_prompt_number == nbb_cell_id) {\n",
       "                        if (nbb_cells[i].get_text() == nbb_unformatted_code) {\n",
       "                             nbb_cells[i].set_text(nbb_formatted_code);\n",
       "                        }\n",
       "                        break;\n",
       "                    }\n",
       "                }\n",
       "            }, 500);\n",
       "            "
      ],
      "text/plain": [
       "<IPython.core.display.Javascript object>"
      ]
     },
     "metadata": {},
     "output_type": "display_data"
    }
   ],
   "source": [
    "n_classes = len(cs_le.classes_)"
   ]
  },
  {
   "cell_type": "code",
   "execution_count": 35,
   "id": "99c8a6f7",
   "metadata": {},
   "outputs": [
    {
     "data": {
      "application/javascript": [
       "\n",
       "            setTimeout(function() {\n",
       "                var nbb_cell_id = 35;\n",
       "                var nbb_unformatted_code = \"# input_shape = fully_featured_data[0].shape\";\n",
       "                var nbb_formatted_code = \"# input_shape = fully_featured_data[0].shape\";\n",
       "                var nbb_cells = Jupyter.notebook.get_cells();\n",
       "                for (var i = 0; i < nbb_cells.length; ++i) {\n",
       "                    if (nbb_cells[i].input_prompt_number == nbb_cell_id) {\n",
       "                        if (nbb_cells[i].get_text() == nbb_unformatted_code) {\n",
       "                             nbb_cells[i].set_text(nbb_formatted_code);\n",
       "                        }\n",
       "                        break;\n",
       "                    }\n",
       "                }\n",
       "            }, 500);\n",
       "            "
      ],
      "text/plain": [
       "<IPython.core.display.Javascript object>"
      ]
     },
     "metadata": {},
     "output_type": "display_data"
    }
   ],
   "source": [
    "# input_shape = fully_featured_data[0].shape"
   ]
  },
  {
   "cell_type": "code",
   "execution_count": 36,
   "id": "ee0b9699",
   "metadata": {},
   "outputs": [
    {
     "data": {
      "application/javascript": [
       "\n",
       "            setTimeout(function() {\n",
       "                var nbb_cell_id = 36;\n",
       "                var nbb_unformatted_code = \"model = Sequential()\\n\\nmodel.add(Input(shape=fully_featured_data[0].shape))\\nmodel.add(Flatten())\\n\\nmodel.add(Dense(units=16, activation=\\\"relu\\\"))\\nmodel.add(Dense(units=32, activation=\\\"relu\\\"))\\nmodel.add(Dense(units=64, activation=\\\"relu\\\"))\\nmodel.add(Dense(units=128, activation=\\\"relu\\\"))\\nmodel.add(Dense(units=512, activation=\\\"relu\\\"))\\nmodel.add(Dense(units=n_classes, activation=\\\"softmax\\\"))\";\n",
       "                var nbb_formatted_code = \"model = Sequential()\\n\\nmodel.add(Input(shape=fully_featured_data[0].shape))\\nmodel.add(Flatten())\\n\\nmodel.add(Dense(units=16, activation=\\\"relu\\\"))\\nmodel.add(Dense(units=32, activation=\\\"relu\\\"))\\nmodel.add(Dense(units=64, activation=\\\"relu\\\"))\\nmodel.add(Dense(units=128, activation=\\\"relu\\\"))\\nmodel.add(Dense(units=512, activation=\\\"relu\\\"))\\nmodel.add(Dense(units=n_classes, activation=\\\"softmax\\\"))\";\n",
       "                var nbb_cells = Jupyter.notebook.get_cells();\n",
       "                for (var i = 0; i < nbb_cells.length; ++i) {\n",
       "                    if (nbb_cells[i].input_prompt_number == nbb_cell_id) {\n",
       "                        if (nbb_cells[i].get_text() == nbb_unformatted_code) {\n",
       "                             nbb_cells[i].set_text(nbb_formatted_code);\n",
       "                        }\n",
       "                        break;\n",
       "                    }\n",
       "                }\n",
       "            }, 500);\n",
       "            "
      ],
      "text/plain": [
       "<IPython.core.display.Javascript object>"
      ]
     },
     "metadata": {},
     "output_type": "display_data"
    }
   ],
   "source": [
    "model = Sequential()\n",
    "\n",
    "model.add(Input(shape=fully_featured_data[0].shape))\n",
    "model.add(Flatten())\n",
    "\n",
    "model.add(Dense(units=16, activation=\"relu\"))\n",
    "model.add(Dense(units=32, activation=\"relu\"))\n",
    "model.add(Dense(units=64, activation=\"relu\"))\n",
    "model.add(Dense(units=128, activation=\"relu\"))\n",
    "model.add(Dense(units=512, activation=\"relu\"))\n",
    "model.add(Dense(units=n_classes, activation=\"softmax\"))"
   ]
  },
  {
   "cell_type": "code",
   "execution_count": 37,
   "id": "2b200def",
   "metadata": {},
   "outputs": [
    {
     "name": "stdout",
     "output_type": "stream",
     "text": [
      "Model: \"sequential_6\"\n",
      "_________________________________________________________________\n",
      "Layer (type)                 Output Shape              Param #   \n",
      "=================================================================\n",
      "flatten_3 (Flatten)          (None, 243)               0         \n",
      "_________________________________________________________________\n",
      "dense_10 (Dense)             (None, 16)                3904      \n",
      "_________________________________________________________________\n",
      "dense_11 (Dense)             (None, 32)                544       \n",
      "_________________________________________________________________\n",
      "dense_12 (Dense)             (None, 64)                2112      \n",
      "_________________________________________________________________\n",
      "dense_13 (Dense)             (None, 128)               8320      \n",
      "_________________________________________________________________\n",
      "dense_14 (Dense)             (None, 512)               66048     \n",
      "_________________________________________________________________\n",
      "dense_15 (Dense)             (None, 7)                 3591      \n",
      "=================================================================\n",
      "Total params: 84,519\n",
      "Trainable params: 84,519\n",
      "Non-trainable params: 0\n",
      "_________________________________________________________________\n"
     ]
    },
    {
     "data": {
      "application/javascript": [
       "\n",
       "            setTimeout(function() {\n",
       "                var nbb_cell_id = 37;\n",
       "                var nbb_unformatted_code = \"model.summary()\";\n",
       "                var nbb_formatted_code = \"model.summary()\";\n",
       "                var nbb_cells = Jupyter.notebook.get_cells();\n",
       "                for (var i = 0; i < nbb_cells.length; ++i) {\n",
       "                    if (nbb_cells[i].input_prompt_number == nbb_cell_id) {\n",
       "                        if (nbb_cells[i].get_text() == nbb_unformatted_code) {\n",
       "                             nbb_cells[i].set_text(nbb_formatted_code);\n",
       "                        }\n",
       "                        break;\n",
       "                    }\n",
       "                }\n",
       "            }, 500);\n",
       "            "
      ],
      "text/plain": [
       "<IPython.core.display.Javascript object>"
      ]
     },
     "metadata": {},
     "output_type": "display_data"
    }
   ],
   "source": [
    "model.summary()"
   ]
  },
  {
   "cell_type": "code",
   "execution_count": 38,
   "id": "577b4eaa",
   "metadata": {},
   "outputs": [
    {
     "data": {
      "application/javascript": [
       "\n",
       "            setTimeout(function() {\n",
       "                var nbb_cell_id = 38;\n",
       "                var nbb_unformatted_code = \"model.compile(\\n    optimizer=\\\"adam\\\",\\n    loss=tensorflow.keras.losses.SparseCategoricalCrossentropy(),\\n    metrics=[\\\"accuracy\\\"],\\n)\";\n",
       "                var nbb_formatted_code = \"model.compile(\\n    optimizer=\\\"adam\\\",\\n    loss=tensorflow.keras.losses.SparseCategoricalCrossentropy(),\\n    metrics=[\\\"accuracy\\\"],\\n)\";\n",
       "                var nbb_cells = Jupyter.notebook.get_cells();\n",
       "                for (var i = 0; i < nbb_cells.length; ++i) {\n",
       "                    if (nbb_cells[i].input_prompt_number == nbb_cell_id) {\n",
       "                        if (nbb_cells[i].get_text() == nbb_unformatted_code) {\n",
       "                             nbb_cells[i].set_text(nbb_formatted_code);\n",
       "                        }\n",
       "                        break;\n",
       "                    }\n",
       "                }\n",
       "            }, 500);\n",
       "            "
      ],
      "text/plain": [
       "<IPython.core.display.Javascript object>"
      ]
     },
     "metadata": {},
     "output_type": "display_data"
    }
   ],
   "source": [
    "model.compile(\n",
    "    optimizer=\"adam\",\n",
    "    loss=tensorflow.keras.losses.SparseCategoricalCrossentropy(),\n",
    "    metrics=[\"accuracy\"],\n",
    ")"
   ]
  },
  {
   "cell_type": "markdown",
   "id": "7a47036f",
   "metadata": {},
   "source": [
    "## Train Test Split"
   ]
  },
  {
   "cell_type": "code",
   "execution_count": 39,
   "id": "c5add85d",
   "metadata": {},
   "outputs": [
    {
     "data": {
      "application/javascript": [
       "\n",
       "            setTimeout(function() {\n",
       "                var nbb_cell_id = 39;\n",
       "                var nbb_unformatted_code = \"X_train, X_test, y_train, y_test = train_test_split(\\n    fully_featured_data, target_data, test_size=0.20, random_state=0\\n)\";\n",
       "                var nbb_formatted_code = \"X_train, X_test, y_train, y_test = train_test_split(\\n    fully_featured_data, target_data, test_size=0.20, random_state=0\\n)\";\n",
       "                var nbb_cells = Jupyter.notebook.get_cells();\n",
       "                for (var i = 0; i < nbb_cells.length; ++i) {\n",
       "                    if (nbb_cells[i].input_prompt_number == nbb_cell_id) {\n",
       "                        if (nbb_cells[i].get_text() == nbb_unformatted_code) {\n",
       "                             nbb_cells[i].set_text(nbb_formatted_code);\n",
       "                        }\n",
       "                        break;\n",
       "                    }\n",
       "                }\n",
       "            }, 500);\n",
       "            "
      ],
      "text/plain": [
       "<IPython.core.display.Javascript object>"
      ]
     },
     "metadata": {},
     "output_type": "display_data"
    }
   ],
   "source": [
    "X_train, X_test, y_train, y_test = train_test_split(\n",
    "    fully_featured_data, target_data, test_size=0.20, random_state=0\n",
    ")"
   ]
  },
  {
   "cell_type": "code",
   "execution_count": 40,
   "id": "59108d6d",
   "metadata": {},
   "outputs": [
    {
     "data": {
      "text/plain": [
       "((337, 9, 27), (85, 9, 27))"
      ]
     },
     "execution_count": 40,
     "metadata": {},
     "output_type": "execute_result"
    },
    {
     "data": {
      "application/javascript": [
       "\n",
       "            setTimeout(function() {\n",
       "                var nbb_cell_id = 40;\n",
       "                var nbb_unformatted_code = \"X_train.shape, X_test.shape\";\n",
       "                var nbb_formatted_code = \"X_train.shape, X_test.shape\";\n",
       "                var nbb_cells = Jupyter.notebook.get_cells();\n",
       "                for (var i = 0; i < nbb_cells.length; ++i) {\n",
       "                    if (nbb_cells[i].input_prompt_number == nbb_cell_id) {\n",
       "                        if (nbb_cells[i].get_text() == nbb_unformatted_code) {\n",
       "                             nbb_cells[i].set_text(nbb_formatted_code);\n",
       "                        }\n",
       "                        break;\n",
       "                    }\n",
       "                }\n",
       "            }, 500);\n",
       "            "
      ],
      "text/plain": [
       "<IPython.core.display.Javascript object>"
      ]
     },
     "metadata": {},
     "output_type": "display_data"
    }
   ],
   "source": [
    "X_train.shape, X_test.shape"
   ]
  },
  {
   "cell_type": "code",
   "execution_count": 41,
   "id": "f374f868",
   "metadata": {},
   "outputs": [
    {
     "data": {
      "text/plain": [
       "((337,), (85,))"
      ]
     },
     "execution_count": 41,
     "metadata": {},
     "output_type": "execute_result"
    },
    {
     "data": {
      "application/javascript": [
       "\n",
       "            setTimeout(function() {\n",
       "                var nbb_cell_id = 41;\n",
       "                var nbb_unformatted_code = \"y_train = np.array(y_train)\\ny_test = np.array(y_test)\\ny_train.shape, y_test.shape\";\n",
       "                var nbb_formatted_code = \"y_train = np.array(y_train)\\ny_test = np.array(y_test)\\ny_train.shape, y_test.shape\";\n",
       "                var nbb_cells = Jupyter.notebook.get_cells();\n",
       "                for (var i = 0; i < nbb_cells.length; ++i) {\n",
       "                    if (nbb_cells[i].input_prompt_number == nbb_cell_id) {\n",
       "                        if (nbb_cells[i].get_text() == nbb_unformatted_code) {\n",
       "                             nbb_cells[i].set_text(nbb_formatted_code);\n",
       "                        }\n",
       "                        break;\n",
       "                    }\n",
       "                }\n",
       "            }, 500);\n",
       "            "
      ],
      "text/plain": [
       "<IPython.core.display.Javascript object>"
      ]
     },
     "metadata": {},
     "output_type": "display_data"
    }
   ],
   "source": [
    "y_train = np.array(y_train)\n",
    "y_test = np.array(y_test)\n",
    "y_train.shape, y_test.shape"
   ]
  },
  {
   "cell_type": "markdown",
   "id": "43aafa88",
   "metadata": {},
   "source": [
    "## Model Training"
   ]
  },
  {
   "cell_type": "code",
   "execution_count": 42,
   "id": "e8611483",
   "metadata": {},
   "outputs": [
    {
     "name": "stdout",
     "output_type": "stream",
     "text": [
      "Epoch 1/20\n",
      "337/337 [==============================] - 0s 478us/step - loss: 25.1971 - accuracy: 0.4599\n",
      "Epoch 2/20\n",
      "337/337 [==============================] - 0s 486us/step - loss: 2.0263 - accuracy: 0.6291\n",
      "Epoch 3/20\n",
      "337/337 [==============================] - 0s 478us/step - loss: 1.7015 - accuracy: 0.6142\n",
      "Epoch 4/20\n",
      "337/337 [==============================] - 0s 478us/step - loss: 1.2601 - accuracy: 0.6647\n",
      "Epoch 5/20\n",
      "337/337 [==============================] - 0s 475us/step - loss: 1.1745 - accuracy: 0.6677\n",
      "Epoch 6/20\n",
      "337/337 [==============================] - 0s 469us/step - loss: 1.1461 - accuracy: 0.6736\n",
      "Epoch 7/20\n",
      "337/337 [==============================] - 0s 482us/step - loss: 1.2283 - accuracy: 0.6677\n",
      "Epoch 8/20\n",
      "337/337 [==============================] - 0s 479us/step - loss: 1.2701 - accuracy: 0.6588\n",
      "Epoch 9/20\n",
      "337/337 [==============================] - 0s 478us/step - loss: 1.2280 - accuracy: 0.6647\n",
      "Epoch 10/20\n",
      "337/337 [==============================] - 0s 462us/step - loss: 1.2064 - accuracy: 0.6617\n",
      "Epoch 11/20\n",
      "337/337 [==============================] - 0s 489us/step - loss: 1.1904 - accuracy: 0.6617\n",
      "Epoch 12/20\n",
      "337/337 [==============================] - 0s 492us/step - loss: 1.1881 - accuracy: 0.6617\n",
      "Epoch 13/20\n",
      "337/337 [==============================] - 0s 462us/step - loss: 1.1881 - accuracy: 0.6617\n",
      "Epoch 14/20\n",
      "337/337 [==============================] - 0s 483us/step - loss: 1.1907 - accuracy: 0.6617\n",
      "Epoch 15/20\n",
      "337/337 [==============================] - 0s 476us/step - loss: 1.1883 - accuracy: 0.6617\n",
      "Epoch 16/20\n",
      "337/337 [==============================] - 0s 477us/step - loss: 1.1869 - accuracy: 0.6617\n",
      "Epoch 17/20\n",
      "337/337 [==============================] - 0s 474us/step - loss: 1.1878 - accuracy: 0.6617\n",
      "Epoch 18/20\n",
      "337/337 [==============================] - 0s 513us/step - loss: 1.1899 - accuracy: 0.6617\n",
      "Epoch 19/20\n",
      "337/337 [==============================] - 0s 506us/step - loss: 1.1869 - accuracy: 0.6617\n",
      "Epoch 20/20\n",
      "337/337 [==============================] - 0s 520us/step - loss: 1.1908 - accuracy: 0.6617\n"
     ]
    },
    {
     "data": {
      "text/plain": [
       "<tensorflow.python.keras.callbacks.History at 0x7f5f60618ca0>"
      ]
     },
     "execution_count": 42,
     "metadata": {},
     "output_type": "execute_result"
    },
    {
     "data": {
      "application/javascript": [
       "\n",
       "            setTimeout(function() {\n",
       "                var nbb_cell_id = 42;\n",
       "                var nbb_unformatted_code = \"model.fit(X_train, y_train, batch_size=1, epochs=20)\";\n",
       "                var nbb_formatted_code = \"model.fit(X_train, y_train, batch_size=1, epochs=20)\";\n",
       "                var nbb_cells = Jupyter.notebook.get_cells();\n",
       "                for (var i = 0; i < nbb_cells.length; ++i) {\n",
       "                    if (nbb_cells[i].input_prompt_number == nbb_cell_id) {\n",
       "                        if (nbb_cells[i].get_text() == nbb_unformatted_code) {\n",
       "                             nbb_cells[i].set_text(nbb_formatted_code);\n",
       "                        }\n",
       "                        break;\n",
       "                    }\n",
       "                }\n",
       "            }, 500);\n",
       "            "
      ],
      "text/plain": [
       "<IPython.core.display.Javascript object>"
      ]
     },
     "metadata": {},
     "output_type": "display_data"
    }
   ],
   "source": [
    "model.fit(X_train, y_train, batch_size=1, epochs=20)"
   ]
  },
  {
   "cell_type": "code",
   "execution_count": 76,
   "id": "97e5cec9",
   "metadata": {},
   "outputs": [
    {
     "name": "stdout",
     "output_type": "stream",
     "text": [
      "85/85 [==============================] - 0s 353us/step - loss: 1.1665 - accuracy: 0.6941\n"
     ]
    },
    {
     "data": {
      "text/plain": [
       "[1.1665338277816772, 0.6941176652908325]"
      ]
     },
     "execution_count": 76,
     "metadata": {},
     "output_type": "execute_result"
    },
    {
     "data": {
      "application/javascript": [
       "\n",
       "            setTimeout(function() {\n",
       "                var nbb_cell_id = 76;\n",
       "                var nbb_unformatted_code = \"model.evaluate(X_test, y_test, batch_size=1)\";\n",
       "                var nbb_formatted_code = \"model.evaluate(X_test, y_test, batch_size=1)\";\n",
       "                var nbb_cells = Jupyter.notebook.get_cells();\n",
       "                for (var i = 0; i < nbb_cells.length; ++i) {\n",
       "                    if (nbb_cells[i].input_prompt_number == nbb_cell_id) {\n",
       "                        if (nbb_cells[i].get_text() == nbb_unformatted_code) {\n",
       "                             nbb_cells[i].set_text(nbb_formatted_code);\n",
       "                        }\n",
       "                        break;\n",
       "                    }\n",
       "                }\n",
       "            }, 500);\n",
       "            "
      ],
      "text/plain": [
       "<IPython.core.display.Javascript object>"
      ]
     },
     "metadata": {},
     "output_type": "display_data"
    }
   ],
   "source": [
    "model.evaluate(X_test, y_test, batch_size=1)"
   ]
  },
  {
   "cell_type": "code",
   "execution_count": 77,
   "id": "e3da7bd1",
   "metadata": {},
   "outputs": [
    {
     "data": {
      "application/javascript": [
       "\n",
       "            setTimeout(function() {\n",
       "                var nbb_cell_id = 77;\n",
       "                var nbb_unformatted_code = \"model.save(\\\"model_3_68_mfcc_with_other_features.h5\\\")\";\n",
       "                var nbb_formatted_code = \"model.save(\\\"model_3_68_mfcc_with_other_features.h5\\\")\";\n",
       "                var nbb_cells = Jupyter.notebook.get_cells();\n",
       "                for (var i = 0; i < nbb_cells.length; ++i) {\n",
       "                    if (nbb_cells[i].input_prompt_number == nbb_cell_id) {\n",
       "                        if (nbb_cells[i].get_text() == nbb_unformatted_code) {\n",
       "                             nbb_cells[i].set_text(nbb_formatted_code);\n",
       "                        }\n",
       "                        break;\n",
       "                    }\n",
       "                }\n",
       "            }, 500);\n",
       "            "
      ],
      "text/plain": [
       "<IPython.core.display.Javascript object>"
      ]
     },
     "metadata": {},
     "output_type": "display_data"
    }
   ],
   "source": [
    "model.save(\"model_3_68_mfcc_with_other_features.h5\")"
   ]
  },
  {
   "cell_type": "markdown",
   "id": "e151eb2f",
   "metadata": {},
   "source": [
    "# Model Acccuracy Comparision:\n",
    "* ```Simple Feature Extraction``` :  0.7058823704719543\n",
    "* ```MFCCs Feature Extraction``` : 0.7176470756530762\n",
    "* ```MFCCs + Simple Features``` : 0.6941176652908325"
   ]
  }
 ],
 "metadata": {
  "kernelspec": {
   "display_name": "Python 3 (ipykernel)",
   "language": "python",
   "name": "python3"
  },
  "language_info": {
   "codemirror_mode": {
    "name": "ipython",
    "version": 3
   },
   "file_extension": ".py",
   "mimetype": "text/x-python",
   "name": "python",
   "nbconvert_exporter": "python",
   "pygments_lexer": "ipython3",
   "version": "3.8.10"
  }
 },
 "nbformat": 4,
 "nbformat_minor": 5
}
