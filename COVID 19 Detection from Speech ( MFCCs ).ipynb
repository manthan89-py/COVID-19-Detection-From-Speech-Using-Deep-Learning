{
 "cells": [
  {
   "cell_type": "code",
   "execution_count": 4,
   "id": "51af5981",
   "metadata": {},
   "outputs": [
    {
     "data": {
      "application/javascript": [
       "\n",
       "            setTimeout(function() {\n",
       "                var nbb_cell_id = 4;\n",
       "                var nbb_unformatted_code = \"%load_ext nb_black\";\n",
       "                var nbb_formatted_code = \"%load_ext nb_black\";\n",
       "                var nbb_cells = Jupyter.notebook.get_cells();\n",
       "                for (var i = 0; i < nbb_cells.length; ++i) {\n",
       "                    if (nbb_cells[i].input_prompt_number == nbb_cell_id) {\n",
       "                        if (nbb_cells[i].get_text() == nbb_unformatted_code) {\n",
       "                             nbb_cells[i].set_text(nbb_formatted_code);\n",
       "                        }\n",
       "                        break;\n",
       "                    }\n",
       "                }\n",
       "            }, 500);\n",
       "            "
      ],
      "text/plain": [
       "<IPython.core.display.Javascript object>"
      ]
     },
     "metadata": {},
     "output_type": "display_data"
    }
   ],
   "source": [
    "%load_ext nb_black"
   ]
  },
  {
   "cell_type": "markdown",
   "id": "9cdb8a04",
   "metadata": {},
   "source": [
    "## Import Section"
   ]
  },
  {
   "cell_type": "code",
   "execution_count": 30,
   "id": "5fac1e55",
   "metadata": {},
   "outputs": [
    {
     "data": {
      "application/javascript": [
       "\n",
       "            setTimeout(function() {\n",
       "                var nbb_cell_id = 30;\n",
       "                var nbb_unformatted_code = \"import os\\nimport json\\nimport numpy as np\\nimport matplotlib.pyplot as plt\\nimport re\\nimport pandas as pd\\nimport librosa\\nimport tensorflow\\nfrom tensorflow.keras.models import Sequential\\nfrom tensorflow.keras.layers import Dense, Flatten, Input\\nfrom sklearn.model_selection import train_test_split\\nimport IPython.display as ipd\\nfrom tensorflow.keras.models import load_model\\nfrom sklearn.preprocessing import LabelEncoder\";\n",
       "                var nbb_formatted_code = \"import os\\nimport json\\nimport numpy as np\\nimport matplotlib.pyplot as plt\\nimport re\\nimport pandas as pd\\nimport librosa\\nimport tensorflow\\nfrom tensorflow.keras.models import Sequential\\nfrom tensorflow.keras.layers import Dense, Flatten, Input\\nfrom sklearn.model_selection import train_test_split\\nimport IPython.display as ipd\\nfrom tensorflow.keras.models import load_model\\nfrom sklearn.preprocessing import LabelEncoder\";\n",
       "                var nbb_cells = Jupyter.notebook.get_cells();\n",
       "                for (var i = 0; i < nbb_cells.length; ++i) {\n",
       "                    if (nbb_cells[i].input_prompt_number == nbb_cell_id) {\n",
       "                        if (nbb_cells[i].get_text() == nbb_unformatted_code) {\n",
       "                             nbb_cells[i].set_text(nbb_formatted_code);\n",
       "                        }\n",
       "                        break;\n",
       "                    }\n",
       "                }\n",
       "            }, 500);\n",
       "            "
      ],
      "text/plain": [
       "<IPython.core.display.Javascript object>"
      ]
     },
     "metadata": {},
     "output_type": "display_data"
    }
   ],
   "source": [
    "import os\n",
    "import json\n",
    "import numpy as np\n",
    "import matplotlib.pyplot as plt\n",
    "import re\n",
    "import pandas as pd\n",
    "import librosa\n",
    "import tensorflow\n",
    "from tensorflow.keras.models import Sequential\n",
    "from tensorflow.keras.layers import Dense, Flatten, Input\n",
    "from sklearn.model_selection import train_test_split\n",
    "import IPython.display as ipd\n",
    "from tensorflow.keras.models import load_model\n",
    "from sklearn.preprocessing import LabelEncoder"
   ]
  },
  {
   "cell_type": "code",
   "execution_count": 5,
   "id": "94fa4ceb",
   "metadata": {},
   "outputs": [
    {
     "data": {
      "application/javascript": [
       "\n",
       "            setTimeout(function() {\n",
       "                var nbb_cell_id = 5;\n",
       "                var nbb_unformatted_code = \"DATASET_PATH = \\\"COVID-19\\\"\\nJSON_PATH = \\\"metadata.json\\\"\";\n",
       "                var nbb_formatted_code = \"DATASET_PATH = \\\"COVID-19\\\"\\nJSON_PATH = \\\"metadata.json\\\"\";\n",
       "                var nbb_cells = Jupyter.notebook.get_cells();\n",
       "                for (var i = 0; i < nbb_cells.length; ++i) {\n",
       "                    if (nbb_cells[i].input_prompt_number == nbb_cell_id) {\n",
       "                        if (nbb_cells[i].get_text() == nbb_unformatted_code) {\n",
       "                             nbb_cells[i].set_text(nbb_formatted_code);\n",
       "                        }\n",
       "                        break;\n",
       "                    }\n",
       "                }\n",
       "            }, 500);\n",
       "            "
      ],
      "text/plain": [
       "<IPython.core.display.Javascript object>"
      ]
     },
     "metadata": {},
     "output_type": "display_data"
    }
   ],
   "source": [
    "DATASET_PATH = \"COVID-19\"\n",
    "JSON_PATH = \"metadata.json\""
   ]
  },
  {
   "cell_type": "code",
   "execution_count": 6,
   "id": "f653e515",
   "metadata": {},
   "outputs": [
    {
     "data": {
      "application/javascript": [
       "\n",
       "            setTimeout(function() {\n",
       "                var nbb_cell_id = 6;\n",
       "                var nbb_unformatted_code = \"files = []\\n\\n# r=root, d=directories, f = files\\n\\nfor r, d, f in os.walk(DATASET_PATH):\\n    for file in f:\\n        if \\\".wav\\\" in file:\\n            files.append(os.path.join(r, file))\";\n",
       "                var nbb_formatted_code = \"files = []\\n\\n# r=root, d=directories, f = files\\n\\nfor r, d, f in os.walk(DATASET_PATH):\\n    for file in f:\\n        if \\\".wav\\\" in file:\\n            files.append(os.path.join(r, file))\";\n",
       "                var nbb_cells = Jupyter.notebook.get_cells();\n",
       "                for (var i = 0; i < nbb_cells.length; ++i) {\n",
       "                    if (nbb_cells[i].input_prompt_number == nbb_cell_id) {\n",
       "                        if (nbb_cells[i].get_text() == nbb_unformatted_code) {\n",
       "                             nbb_cells[i].set_text(nbb_formatted_code);\n",
       "                        }\n",
       "                        break;\n",
       "                    }\n",
       "                }\n",
       "            }, 500);\n",
       "            "
      ],
      "text/plain": [
       "<IPython.core.display.Javascript object>"
      ]
     },
     "metadata": {},
     "output_type": "display_data"
    }
   ],
   "source": [
    "files = []\n",
    "\n",
    "# r=root, d=directories, f = files\n",
    "\n",
    "for r, d, f in os.walk(DATASET_PATH):\n",
    "    for file in f:\n",
    "        if \".wav\" in file:\n",
    "            files.append(os.path.join(r, file))"
   ]
  },
  {
   "cell_type": "code",
   "execution_count": 7,
   "id": "7f1e059d",
   "metadata": {},
   "outputs": [
    {
     "data": {
      "text/plain": [
       "['COVID-19/7DfMFXPDu3W2Fxjs8w0OsLIY8em1/vowel-o.wav',\n",
       " 'COVID-19/7DfMFXPDu3W2Fxjs8w0OsLIY8em1/vowel-a.wav',\n",
       " 'COVID-19/7DfMFXPDu3W2Fxjs8w0OsLIY8em1/breathing-shallow.wav',\n",
       " 'COVID-19/7DfMFXPDu3W2Fxjs8w0OsLIY8em1/cough-shallow.wav',\n",
       " 'COVID-19/7DfMFXPDu3W2Fxjs8w0OsLIY8em1/vowel-e.wav',\n",
       " 'COVID-19/7DfMFXPDu3W2Fxjs8w0OsLIY8em1/cough-heavy.wav',\n",
       " 'COVID-19/7DfMFXPDu3W2Fxjs8w0OsLIY8em1/breathing-deep.wav',\n",
       " 'COVID-19/7DfMFXPDu3W2Fxjs8w0OsLIY8em1/counting-normal.wav',\n",
       " 'COVID-19/7DfMFXPDu3W2Fxjs8w0OsLIY8em1/counting-fast.wav']"
      ]
     },
     "execution_count": 7,
     "metadata": {},
     "output_type": "execute_result"
    },
    {
     "data": {
      "application/javascript": [
       "\n",
       "            setTimeout(function() {\n",
       "                var nbb_cell_id = 7;\n",
       "                var nbb_unformatted_code = \"files[:9]\";\n",
       "                var nbb_formatted_code = \"files[:9]\";\n",
       "                var nbb_cells = Jupyter.notebook.get_cells();\n",
       "                for (var i = 0; i < nbb_cells.length; ++i) {\n",
       "                    if (nbb_cells[i].input_prompt_number == nbb_cell_id) {\n",
       "                        if (nbb_cells[i].get_text() == nbb_unformatted_code) {\n",
       "                             nbb_cells[i].set_text(nbb_formatted_code);\n",
       "                        }\n",
       "                        break;\n",
       "                    }\n",
       "                }\n",
       "            }, 500);\n",
       "            "
      ],
      "text/plain": [
       "<IPython.core.display.Javascript object>"
      ]
     },
     "metadata": {},
     "output_type": "display_data"
    }
   ],
   "source": [
    "files[:9]"
   ]
  },
  {
   "cell_type": "markdown",
   "id": "b107a8bb",
   "metadata": {},
   "source": [
    "## Feature Extraction"
   ]
  },
  {
   "cell_type": "code",
   "execution_count": 9,
   "id": "45d4d331",
   "metadata": {},
   "outputs": [
    {
     "data": {
      "application/javascript": [
       "\n",
       "            setTimeout(function() {\n",
       "                var nbb_cell_id = 9;\n",
       "                var nbb_unformatted_code = \"user_id = []\\nmfcc = []\\n\\nfor f in files:\\n\\n    y, sr = librosa.load(f, sr=None)\\n\\n    if y is None or len(y) == 0:\\n        continue\\n\\n    else:\\n        user_id.append(f.split(\\\"/\\\")[1])\\n\\n        mfccs = librosa.feature.mfcc(y=y, sr=sr)\\n        m = []\\n\\n        for e in mfccs:\\n            m.append(np.mean(e))\\n        mfcc.append(m)\";\n",
       "                var nbb_formatted_code = \"user_id = []\\nmfcc = []\\n\\nfor f in files:\\n\\n    y, sr = librosa.load(f, sr=None)\\n\\n    if y is None or len(y) == 0:\\n        continue\\n\\n    else:\\n        user_id.append(f.split(\\\"/\\\")[1])\\n\\n        mfccs = librosa.feature.mfcc(y=y, sr=sr)\\n        m = []\\n\\n        for e in mfccs:\\n            m.append(np.mean(e))\\n        mfcc.append(m)\";\n",
       "                var nbb_cells = Jupyter.notebook.get_cells();\n",
       "                for (var i = 0; i < nbb_cells.length; ++i) {\n",
       "                    if (nbb_cells[i].input_prompt_number == nbb_cell_id) {\n",
       "                        if (nbb_cells[i].get_text() == nbb_unformatted_code) {\n",
       "                             nbb_cells[i].set_text(nbb_formatted_code);\n",
       "                        }\n",
       "                        break;\n",
       "                    }\n",
       "                }\n",
       "            }, 500);\n",
       "            "
      ],
      "text/plain": [
       "<IPython.core.display.Javascript object>"
      ]
     },
     "metadata": {},
     "output_type": "display_data"
    }
   ],
   "source": [
    "user_id = []\n",
    "mfcc = []\n",
    "\n",
    "for f in files:\n",
    "\n",
    "    y, sr = librosa.load(f, sr=None)\n",
    "\n",
    "    if y is None or len(y) == 0:\n",
    "        continue\n",
    "\n",
    "    else:\n",
    "        user_id.append(f.split(\"/\")[1])\n",
    "\n",
    "        mfccs = librosa.feature.mfcc(y=y, sr=sr)\n",
    "        m = []\n",
    "\n",
    "        for e in mfccs:\n",
    "            m.append(np.mean(e))\n",
    "        mfcc.append(m)"
   ]
  },
  {
   "cell_type": "code",
   "execution_count": 10,
   "id": "3320e89a",
   "metadata": {},
   "outputs": [
    {
     "data": {
      "application/javascript": [
       "\n",
       "            setTimeout(function() {\n",
       "                var nbb_cell_id = 10;\n",
       "                var nbb_unformatted_code = \"mfcc = np.array(mfcc)\";\n",
       "                var nbb_formatted_code = \"mfcc = np.array(mfcc)\";\n",
       "                var nbb_cells = Jupyter.notebook.get_cells();\n",
       "                for (var i = 0; i < nbb_cells.length; ++i) {\n",
       "                    if (nbb_cells[i].input_prompt_number == nbb_cell_id) {\n",
       "                        if (nbb_cells[i].get_text() == nbb_unformatted_code) {\n",
       "                             nbb_cells[i].set_text(nbb_formatted_code);\n",
       "                        }\n",
       "                        break;\n",
       "                    }\n",
       "                }\n",
       "            }, 500);\n",
       "            "
      ],
      "text/plain": [
       "<IPython.core.display.Javascript object>"
      ]
     },
     "metadata": {},
     "output_type": "display_data"
    }
   ],
   "source": [
    "mfcc = np.array(mfcc)"
   ]
  },
  {
   "cell_type": "code",
   "execution_count": 11,
   "id": "1ca97f33",
   "metadata": {},
   "outputs": [
    {
     "data": {
      "text/plain": [
       "(3798, 20)"
      ]
     },
     "execution_count": 11,
     "metadata": {},
     "output_type": "execute_result"
    },
    {
     "data": {
      "application/javascript": [
       "\n",
       "            setTimeout(function() {\n",
       "                var nbb_cell_id = 11;\n",
       "                var nbb_unformatted_code = \"mfcc.shape\";\n",
       "                var nbb_formatted_code = \"mfcc.shape\";\n",
       "                var nbb_cells = Jupyter.notebook.get_cells();\n",
       "                for (var i = 0; i < nbb_cells.length; ++i) {\n",
       "                    if (nbb_cells[i].input_prompt_number == nbb_cell_id) {\n",
       "                        if (nbb_cells[i].get_text() == nbb_unformatted_code) {\n",
       "                             nbb_cells[i].set_text(nbb_formatted_code);\n",
       "                        }\n",
       "                        break;\n",
       "                    }\n",
       "                }\n",
       "            }, 500);\n",
       "            "
      ],
      "text/plain": [
       "<IPython.core.display.Javascript object>"
      ]
     },
     "metadata": {},
     "output_type": "display_data"
    }
   ],
   "source": [
    "mfcc.shape"
   ]
  },
  {
   "cell_type": "code",
   "execution_count": 12,
   "id": "4271e085",
   "metadata": {},
   "outputs": [
    {
     "data": {
      "text/plain": [
       "3798"
      ]
     },
     "execution_count": 12,
     "metadata": {},
     "output_type": "execute_result"
    },
    {
     "data": {
      "application/javascript": [
       "\n",
       "            setTimeout(function() {\n",
       "                var nbb_cell_id = 12;\n",
       "                var nbb_unformatted_code = \"len(files)\";\n",
       "                var nbb_formatted_code = \"len(files)\";\n",
       "                var nbb_cells = Jupyter.notebook.get_cells();\n",
       "                for (var i = 0; i < nbb_cells.length; ++i) {\n",
       "                    if (nbb_cells[i].input_prompt_number == nbb_cell_id) {\n",
       "                        if (nbb_cells[i].get_text() == nbb_unformatted_code) {\n",
       "                             nbb_cells[i].set_text(nbb_formatted_code);\n",
       "                        }\n",
       "                        break;\n",
       "                    }\n",
       "                }\n",
       "            }, 500);\n",
       "            "
      ],
      "text/plain": [
       "<IPython.core.display.Javascript object>"
      ]
     },
     "metadata": {},
     "output_type": "display_data"
    }
   ],
   "source": [
    "len(files)"
   ]
  },
  {
   "cell_type": "code",
   "execution_count": 15,
   "id": "b1d7b1d1",
   "metadata": {},
   "outputs": [
    {
     "data": {
      "application/javascript": [
       "\n",
       "            setTimeout(function() {\n",
       "                var nbb_cell_id = 15;\n",
       "                var nbb_unformatted_code = \"cols = [\\\"mfcc_\\\"+str(i) for i in range(1,20+1)]\";\n",
       "                var nbb_formatted_code = \"cols = [\\\"mfcc_\\\" + str(i) for i in range(1, 20 + 1)]\";\n",
       "                var nbb_cells = Jupyter.notebook.get_cells();\n",
       "                for (var i = 0; i < nbb_cells.length; ++i) {\n",
       "                    if (nbb_cells[i].input_prompt_number == nbb_cell_id) {\n",
       "                        if (nbb_cells[i].get_text() == nbb_unformatted_code) {\n",
       "                             nbb_cells[i].set_text(nbb_formatted_code);\n",
       "                        }\n",
       "                        break;\n",
       "                    }\n",
       "                }\n",
       "            }, 500);\n",
       "            "
      ],
      "text/plain": [
       "<IPython.core.display.Javascript object>"
      ]
     },
     "metadata": {},
     "output_type": "display_data"
    }
   ],
   "source": [
    "cols = [\"mfcc_\" + str(i) for i in range(1, 20 + 1)]"
   ]
  },
  {
   "cell_type": "code",
   "execution_count": 69,
   "id": "74813360",
   "metadata": {},
   "outputs": [
    {
     "data": {
      "application/javascript": [
       "\n",
       "            setTimeout(function() {\n",
       "                var nbb_cell_id = 69;\n",
       "                var nbb_unformatted_code = \"data = pd.DataFrame(mfcc, columns=cols)\";\n",
       "                var nbb_formatted_code = \"data = pd.DataFrame(mfcc, columns=cols)\";\n",
       "                var nbb_cells = Jupyter.notebook.get_cells();\n",
       "                for (var i = 0; i < nbb_cells.length; ++i) {\n",
       "                    if (nbb_cells[i].input_prompt_number == nbb_cell_id) {\n",
       "                        if (nbb_cells[i].get_text() == nbb_unformatted_code) {\n",
       "                             nbb_cells[i].set_text(nbb_formatted_code);\n",
       "                        }\n",
       "                        break;\n",
       "                    }\n",
       "                }\n",
       "            }, 500);\n",
       "            "
      ],
      "text/plain": [
       "<IPython.core.display.Javascript object>"
      ]
     },
     "metadata": {},
     "output_type": "display_data"
    }
   ],
   "source": [
    "data = pd.DataFrame(mfcc, columns=cols)"
   ]
  },
  {
   "cell_type": "code",
   "execution_count": 70,
   "id": "dbbdab99",
   "metadata": {},
   "outputs": [
    {
     "data": {
      "application/javascript": [
       "\n",
       "            setTimeout(function() {\n",
       "                var nbb_cell_id = 70;\n",
       "                var nbb_unformatted_code = \"# data[\\\"user_id\\\"] = user_id\\ndata[\\\"filepath\\\"] = files\";\n",
       "                var nbb_formatted_code = \"# data[\\\"user_id\\\"] = user_id\\ndata[\\\"filepath\\\"] = files\";\n",
       "                var nbb_cells = Jupyter.notebook.get_cells();\n",
       "                for (var i = 0; i < nbb_cells.length; ++i) {\n",
       "                    if (nbb_cells[i].input_prompt_number == nbb_cell_id) {\n",
       "                        if (nbb_cells[i].get_text() == nbb_unformatted_code) {\n",
       "                             nbb_cells[i].set_text(nbb_formatted_code);\n",
       "                        }\n",
       "                        break;\n",
       "                    }\n",
       "                }\n",
       "            }, 500);\n",
       "            "
      ],
      "text/plain": [
       "<IPython.core.display.Javascript object>"
      ]
     },
     "metadata": {},
     "output_type": "display_data"
    }
   ],
   "source": [
    "# data[\"user_id\"] = user_id\n",
    "data[\"filepath\"] = files"
   ]
  },
  {
   "cell_type": "code",
   "execution_count": 71,
   "id": "eaff186e",
   "metadata": {},
   "outputs": [
    {
     "data": {
      "text/html": [
       "<div>\n",
       "<style scoped>\n",
       "    .dataframe tbody tr th:only-of-type {\n",
       "        vertical-align: middle;\n",
       "    }\n",
       "\n",
       "    .dataframe tbody tr th {\n",
       "        vertical-align: top;\n",
       "    }\n",
       "\n",
       "    .dataframe thead th {\n",
       "        text-align: right;\n",
       "    }\n",
       "</style>\n",
       "<table border=\"1\" class=\"dataframe\">\n",
       "  <thead>\n",
       "    <tr style=\"text-align: right;\">\n",
       "      <th></th>\n",
       "      <th>mfcc_1</th>\n",
       "      <th>mfcc_2</th>\n",
       "      <th>mfcc_3</th>\n",
       "      <th>mfcc_4</th>\n",
       "      <th>mfcc_5</th>\n",
       "      <th>mfcc_6</th>\n",
       "      <th>mfcc_7</th>\n",
       "      <th>mfcc_8</th>\n",
       "      <th>mfcc_9</th>\n",
       "      <th>mfcc_10</th>\n",
       "      <th>...</th>\n",
       "      <th>mfcc_12</th>\n",
       "      <th>mfcc_13</th>\n",
       "      <th>mfcc_14</th>\n",
       "      <th>mfcc_15</th>\n",
       "      <th>mfcc_16</th>\n",
       "      <th>mfcc_17</th>\n",
       "      <th>mfcc_18</th>\n",
       "      <th>mfcc_19</th>\n",
       "      <th>mfcc_20</th>\n",
       "      <th>filepath</th>\n",
       "    </tr>\n",
       "  </thead>\n",
       "  <tbody>\n",
       "    <tr>\n",
       "      <th>0</th>\n",
       "      <td>-363.377258</td>\n",
       "      <td>144.358337</td>\n",
       "      <td>27.980934</td>\n",
       "      <td>15.131627</td>\n",
       "      <td>-4.168990</td>\n",
       "      <td>-31.025049</td>\n",
       "      <td>-20.511789</td>\n",
       "      <td>-20.623474</td>\n",
       "      <td>-23.285761</td>\n",
       "      <td>-15.352588</td>\n",
       "      <td>...</td>\n",
       "      <td>-14.310049</td>\n",
       "      <td>1.837768</td>\n",
       "      <td>-9.357093</td>\n",
       "      <td>-16.901194</td>\n",
       "      <td>-8.871928</td>\n",
       "      <td>-11.130017</td>\n",
       "      <td>-10.805934</td>\n",
       "      <td>-3.902681</td>\n",
       "      <td>-4.770747</td>\n",
       "      <td>COVID-19/7DfMFXPDu3W2Fxjs8w0OsLIY8em1/vowel-o.wav</td>\n",
       "    </tr>\n",
       "    <tr>\n",
       "      <th>1</th>\n",
       "      <td>-345.390533</td>\n",
       "      <td>124.867485</td>\n",
       "      <td>-4.307336</td>\n",
       "      <td>19.490623</td>\n",
       "      <td>7.525982</td>\n",
       "      <td>-17.402979</td>\n",
       "      <td>6.819692</td>\n",
       "      <td>-16.135691</td>\n",
       "      <td>-42.735359</td>\n",
       "      <td>-21.941904</td>\n",
       "      <td>...</td>\n",
       "      <td>-20.900917</td>\n",
       "      <td>-10.857018</td>\n",
       "      <td>-14.837809</td>\n",
       "      <td>-15.201618</td>\n",
       "      <td>-5.872452</td>\n",
       "      <td>-1.326357</td>\n",
       "      <td>-1.137605</td>\n",
       "      <td>-7.114715</td>\n",
       "      <td>-6.406201</td>\n",
       "      <td>COVID-19/7DfMFXPDu3W2Fxjs8w0OsLIY8em1/vowel-a.wav</td>\n",
       "    </tr>\n",
       "    <tr>\n",
       "      <th>2</th>\n",
       "      <td>-860.161987</td>\n",
       "      <td>97.513298</td>\n",
       "      <td>-21.191671</td>\n",
       "      <td>8.036111</td>\n",
       "      <td>6.223122</td>\n",
       "      <td>-6.836332</td>\n",
       "      <td>8.026308</td>\n",
       "      <td>2.952522</td>\n",
       "      <td>-10.468498</td>\n",
       "      <td>1.575670</td>\n",
       "      <td>...</td>\n",
       "      <td>-7.578856</td>\n",
       "      <td>-0.824565</td>\n",
       "      <td>-0.376975</td>\n",
       "      <td>-6.388448</td>\n",
       "      <td>-2.045947</td>\n",
       "      <td>0.254025</td>\n",
       "      <td>-0.853397</td>\n",
       "      <td>-0.025326</td>\n",
       "      <td>-0.848093</td>\n",
       "      <td>COVID-19/7DfMFXPDu3W2Fxjs8w0OsLIY8em1/breathin...</td>\n",
       "    </tr>\n",
       "    <tr>\n",
       "      <th>3</th>\n",
       "      <td>-525.321655</td>\n",
       "      <td>51.241253</td>\n",
       "      <td>-15.734446</td>\n",
       "      <td>-2.986843</td>\n",
       "      <td>5.281782</td>\n",
       "      <td>-3.511705</td>\n",
       "      <td>3.455106</td>\n",
       "      <td>-0.633038</td>\n",
       "      <td>-9.138741</td>\n",
       "      <td>-4.899961</td>\n",
       "      <td>...</td>\n",
       "      <td>-4.711785</td>\n",
       "      <td>-0.084784</td>\n",
       "      <td>-2.399943</td>\n",
       "      <td>-2.744585</td>\n",
       "      <td>0.439062</td>\n",
       "      <td>-1.520346</td>\n",
       "      <td>-1.996574</td>\n",
       "      <td>0.463630</td>\n",
       "      <td>-0.533586</td>\n",
       "      <td>COVID-19/7DfMFXPDu3W2Fxjs8w0OsLIY8em1/cough-sh...</td>\n",
       "    </tr>\n",
       "    <tr>\n",
       "      <th>4</th>\n",
       "      <td>-406.449951</td>\n",
       "      <td>121.712585</td>\n",
       "      <td>16.063465</td>\n",
       "      <td>29.269457</td>\n",
       "      <td>18.560997</td>\n",
       "      <td>-3.910539</td>\n",
       "      <td>12.661272</td>\n",
       "      <td>-5.819675</td>\n",
       "      <td>-28.114544</td>\n",
       "      <td>-12.038963</td>\n",
       "      <td>...</td>\n",
       "      <td>-16.488800</td>\n",
       "      <td>-6.080915</td>\n",
       "      <td>-11.323594</td>\n",
       "      <td>-14.311434</td>\n",
       "      <td>-7.020574</td>\n",
       "      <td>-10.257932</td>\n",
       "      <td>-9.524367</td>\n",
       "      <td>-6.419607</td>\n",
       "      <td>-11.246635</td>\n",
       "      <td>COVID-19/7DfMFXPDu3W2Fxjs8w0OsLIY8em1/vowel-e.wav</td>\n",
       "    </tr>\n",
       "  </tbody>\n",
       "</table>\n",
       "<p>5 rows × 21 columns</p>\n",
       "</div>"
      ],
      "text/plain": [
       "       mfcc_1      mfcc_2     mfcc_3     mfcc_4     mfcc_5     mfcc_6  \\\n",
       "0 -363.377258  144.358337  27.980934  15.131627  -4.168990 -31.025049   \n",
       "1 -345.390533  124.867485  -4.307336  19.490623   7.525982 -17.402979   \n",
       "2 -860.161987   97.513298 -21.191671   8.036111   6.223122  -6.836332   \n",
       "3 -525.321655   51.241253 -15.734446  -2.986843   5.281782  -3.511705   \n",
       "4 -406.449951  121.712585  16.063465  29.269457  18.560997  -3.910539   \n",
       "\n",
       "      mfcc_7     mfcc_8     mfcc_9    mfcc_10  ...    mfcc_12    mfcc_13  \\\n",
       "0 -20.511789 -20.623474 -23.285761 -15.352588  ... -14.310049   1.837768   \n",
       "1   6.819692 -16.135691 -42.735359 -21.941904  ... -20.900917 -10.857018   \n",
       "2   8.026308   2.952522 -10.468498   1.575670  ...  -7.578856  -0.824565   \n",
       "3   3.455106  -0.633038  -9.138741  -4.899961  ...  -4.711785  -0.084784   \n",
       "4  12.661272  -5.819675 -28.114544 -12.038963  ... -16.488800  -6.080915   \n",
       "\n",
       "     mfcc_14    mfcc_15   mfcc_16    mfcc_17    mfcc_18   mfcc_19    mfcc_20  \\\n",
       "0  -9.357093 -16.901194 -8.871928 -11.130017 -10.805934 -3.902681  -4.770747   \n",
       "1 -14.837809 -15.201618 -5.872452  -1.326357  -1.137605 -7.114715  -6.406201   \n",
       "2  -0.376975  -6.388448 -2.045947   0.254025  -0.853397 -0.025326  -0.848093   \n",
       "3  -2.399943  -2.744585  0.439062  -1.520346  -1.996574  0.463630  -0.533586   \n",
       "4 -11.323594 -14.311434 -7.020574 -10.257932  -9.524367 -6.419607 -11.246635   \n",
       "\n",
       "                                            filepath  \n",
       "0  COVID-19/7DfMFXPDu3W2Fxjs8w0OsLIY8em1/vowel-o.wav  \n",
       "1  COVID-19/7DfMFXPDu3W2Fxjs8w0OsLIY8em1/vowel-a.wav  \n",
       "2  COVID-19/7DfMFXPDu3W2Fxjs8w0OsLIY8em1/breathin...  \n",
       "3  COVID-19/7DfMFXPDu3W2Fxjs8w0OsLIY8em1/cough-sh...  \n",
       "4  COVID-19/7DfMFXPDu3W2Fxjs8w0OsLIY8em1/vowel-e.wav  \n",
       "\n",
       "[5 rows x 21 columns]"
      ]
     },
     "execution_count": 71,
     "metadata": {},
     "output_type": "execute_result"
    },
    {
     "data": {
      "application/javascript": [
       "\n",
       "            setTimeout(function() {\n",
       "                var nbb_cell_id = 71;\n",
       "                var nbb_unformatted_code = \"data.head()\";\n",
       "                var nbb_formatted_code = \"data.head()\";\n",
       "                var nbb_cells = Jupyter.notebook.get_cells();\n",
       "                for (var i = 0; i < nbb_cells.length; ++i) {\n",
       "                    if (nbb_cells[i].input_prompt_number == nbb_cell_id) {\n",
       "                        if (nbb_cells[i].get_text() == nbb_unformatted_code) {\n",
       "                             nbb_cells[i].set_text(nbb_formatted_code);\n",
       "                        }\n",
       "                        break;\n",
       "                    }\n",
       "                }\n",
       "            }, 500);\n",
       "            "
      ],
      "text/plain": [
       "<IPython.core.display.Javascript object>"
      ]
     },
     "metadata": {},
     "output_type": "display_data"
    }
   ],
   "source": [
    "data.head()"
   ]
  },
  {
   "cell_type": "code",
   "execution_count": 72,
   "id": "1832a51e",
   "metadata": {},
   "outputs": [
    {
     "data": {
      "application/javascript": [
       "\n",
       "            setTimeout(function() {\n",
       "                var nbb_cell_id = 72;\n",
       "                var nbb_unformatted_code = \"data[\\\"filename\\\"] = data[\\\"filepath\\\"].apply(lambda x: x.split(\\\"/\\\")[2])\";\n",
       "                var nbb_formatted_code = \"data[\\\"filename\\\"] = data[\\\"filepath\\\"].apply(lambda x: x.split(\\\"/\\\")[2])\";\n",
       "                var nbb_cells = Jupyter.notebook.get_cells();\n",
       "                for (var i = 0; i < nbb_cells.length; ++i) {\n",
       "                    if (nbb_cells[i].input_prompt_number == nbb_cell_id) {\n",
       "                        if (nbb_cells[i].get_text() == nbb_unformatted_code) {\n",
       "                             nbb_cells[i].set_text(nbb_formatted_code);\n",
       "                        }\n",
       "                        break;\n",
       "                    }\n",
       "                }\n",
       "            }, 500);\n",
       "            "
      ],
      "text/plain": [
       "<IPython.core.display.Javascript object>"
      ]
     },
     "metadata": {},
     "output_type": "display_data"
    }
   ],
   "source": [
    "data[\"filename\"] = data[\"filepath\"].apply(lambda x: x.split(\"/\")[2])"
   ]
  },
  {
   "cell_type": "code",
   "execution_count": 73,
   "id": "9b256979",
   "metadata": {},
   "outputs": [
    {
     "data": {
      "application/javascript": [
       "\n",
       "            setTimeout(function() {\n",
       "                var nbb_cell_id = 73;\n",
       "                var nbb_unformatted_code = \"data.drop([\\\"filepath\\\"], inplace=True, axis=1)\";\n",
       "                var nbb_formatted_code = \"data.drop([\\\"filepath\\\"], inplace=True, axis=1)\";\n",
       "                var nbb_cells = Jupyter.notebook.get_cells();\n",
       "                for (var i = 0; i < nbb_cells.length; ++i) {\n",
       "                    if (nbb_cells[i].input_prompt_number == nbb_cell_id) {\n",
       "                        if (nbb_cells[i].get_text() == nbb_unformatted_code) {\n",
       "                             nbb_cells[i].set_text(nbb_formatted_code);\n",
       "                        }\n",
       "                        break;\n",
       "                    }\n",
       "                }\n",
       "            }, 500);\n",
       "            "
      ],
      "text/plain": [
       "<IPython.core.display.Javascript object>"
      ]
     },
     "metadata": {},
     "output_type": "display_data"
    }
   ],
   "source": [
    "data.drop([\"filepath\"], inplace=True, axis=1)"
   ]
  },
  {
   "cell_type": "code",
   "execution_count": 74,
   "id": "03f1507b",
   "metadata": {},
   "outputs": [
    {
     "data": {
      "text/html": [
       "<div>\n",
       "<style scoped>\n",
       "    .dataframe tbody tr th:only-of-type {\n",
       "        vertical-align: middle;\n",
       "    }\n",
       "\n",
       "    .dataframe tbody tr th {\n",
       "        vertical-align: top;\n",
       "    }\n",
       "\n",
       "    .dataframe thead th {\n",
       "        text-align: right;\n",
       "    }\n",
       "</style>\n",
       "<table border=\"1\" class=\"dataframe\">\n",
       "  <thead>\n",
       "    <tr style=\"text-align: right;\">\n",
       "      <th></th>\n",
       "      <th>mfcc_1</th>\n",
       "      <th>mfcc_2</th>\n",
       "      <th>mfcc_3</th>\n",
       "      <th>mfcc_4</th>\n",
       "      <th>mfcc_5</th>\n",
       "      <th>mfcc_6</th>\n",
       "      <th>mfcc_7</th>\n",
       "      <th>mfcc_8</th>\n",
       "      <th>mfcc_9</th>\n",
       "      <th>mfcc_10</th>\n",
       "      <th>...</th>\n",
       "      <th>mfcc_12</th>\n",
       "      <th>mfcc_13</th>\n",
       "      <th>mfcc_14</th>\n",
       "      <th>mfcc_15</th>\n",
       "      <th>mfcc_16</th>\n",
       "      <th>mfcc_17</th>\n",
       "      <th>mfcc_18</th>\n",
       "      <th>mfcc_19</th>\n",
       "      <th>mfcc_20</th>\n",
       "      <th>filename</th>\n",
       "    </tr>\n",
       "  </thead>\n",
       "  <tbody>\n",
       "    <tr>\n",
       "      <th>0</th>\n",
       "      <td>-363.377258</td>\n",
       "      <td>144.358337</td>\n",
       "      <td>27.980934</td>\n",
       "      <td>15.131627</td>\n",
       "      <td>-4.168990</td>\n",
       "      <td>-31.025049</td>\n",
       "      <td>-20.511789</td>\n",
       "      <td>-20.623474</td>\n",
       "      <td>-23.285761</td>\n",
       "      <td>-15.352588</td>\n",
       "      <td>...</td>\n",
       "      <td>-14.310049</td>\n",
       "      <td>1.837768</td>\n",
       "      <td>-9.357093</td>\n",
       "      <td>-16.901194</td>\n",
       "      <td>-8.871928</td>\n",
       "      <td>-11.130017</td>\n",
       "      <td>-10.805934</td>\n",
       "      <td>-3.902681</td>\n",
       "      <td>-4.770747</td>\n",
       "      <td>vowel-o.wav</td>\n",
       "    </tr>\n",
       "    <tr>\n",
       "      <th>1</th>\n",
       "      <td>-345.390533</td>\n",
       "      <td>124.867485</td>\n",
       "      <td>-4.307336</td>\n",
       "      <td>19.490623</td>\n",
       "      <td>7.525982</td>\n",
       "      <td>-17.402979</td>\n",
       "      <td>6.819692</td>\n",
       "      <td>-16.135691</td>\n",
       "      <td>-42.735359</td>\n",
       "      <td>-21.941904</td>\n",
       "      <td>...</td>\n",
       "      <td>-20.900917</td>\n",
       "      <td>-10.857018</td>\n",
       "      <td>-14.837809</td>\n",
       "      <td>-15.201618</td>\n",
       "      <td>-5.872452</td>\n",
       "      <td>-1.326357</td>\n",
       "      <td>-1.137605</td>\n",
       "      <td>-7.114715</td>\n",
       "      <td>-6.406201</td>\n",
       "      <td>vowel-a.wav</td>\n",
       "    </tr>\n",
       "    <tr>\n",
       "      <th>2</th>\n",
       "      <td>-860.161987</td>\n",
       "      <td>97.513298</td>\n",
       "      <td>-21.191671</td>\n",
       "      <td>8.036111</td>\n",
       "      <td>6.223122</td>\n",
       "      <td>-6.836332</td>\n",
       "      <td>8.026308</td>\n",
       "      <td>2.952522</td>\n",
       "      <td>-10.468498</td>\n",
       "      <td>1.575670</td>\n",
       "      <td>...</td>\n",
       "      <td>-7.578856</td>\n",
       "      <td>-0.824565</td>\n",
       "      <td>-0.376975</td>\n",
       "      <td>-6.388448</td>\n",
       "      <td>-2.045947</td>\n",
       "      <td>0.254025</td>\n",
       "      <td>-0.853397</td>\n",
       "      <td>-0.025326</td>\n",
       "      <td>-0.848093</td>\n",
       "      <td>breathing-shallow.wav</td>\n",
       "    </tr>\n",
       "    <tr>\n",
       "      <th>3</th>\n",
       "      <td>-525.321655</td>\n",
       "      <td>51.241253</td>\n",
       "      <td>-15.734446</td>\n",
       "      <td>-2.986843</td>\n",
       "      <td>5.281782</td>\n",
       "      <td>-3.511705</td>\n",
       "      <td>3.455106</td>\n",
       "      <td>-0.633038</td>\n",
       "      <td>-9.138741</td>\n",
       "      <td>-4.899961</td>\n",
       "      <td>...</td>\n",
       "      <td>-4.711785</td>\n",
       "      <td>-0.084784</td>\n",
       "      <td>-2.399943</td>\n",
       "      <td>-2.744585</td>\n",
       "      <td>0.439062</td>\n",
       "      <td>-1.520346</td>\n",
       "      <td>-1.996574</td>\n",
       "      <td>0.463630</td>\n",
       "      <td>-0.533586</td>\n",
       "      <td>cough-shallow.wav</td>\n",
       "    </tr>\n",
       "    <tr>\n",
       "      <th>4</th>\n",
       "      <td>-406.449951</td>\n",
       "      <td>121.712585</td>\n",
       "      <td>16.063465</td>\n",
       "      <td>29.269457</td>\n",
       "      <td>18.560997</td>\n",
       "      <td>-3.910539</td>\n",
       "      <td>12.661272</td>\n",
       "      <td>-5.819675</td>\n",
       "      <td>-28.114544</td>\n",
       "      <td>-12.038963</td>\n",
       "      <td>...</td>\n",
       "      <td>-16.488800</td>\n",
       "      <td>-6.080915</td>\n",
       "      <td>-11.323594</td>\n",
       "      <td>-14.311434</td>\n",
       "      <td>-7.020574</td>\n",
       "      <td>-10.257932</td>\n",
       "      <td>-9.524367</td>\n",
       "      <td>-6.419607</td>\n",
       "      <td>-11.246635</td>\n",
       "      <td>vowel-e.wav</td>\n",
       "    </tr>\n",
       "  </tbody>\n",
       "</table>\n",
       "<p>5 rows × 21 columns</p>\n",
       "</div>"
      ],
      "text/plain": [
       "       mfcc_1      mfcc_2     mfcc_3     mfcc_4     mfcc_5     mfcc_6  \\\n",
       "0 -363.377258  144.358337  27.980934  15.131627  -4.168990 -31.025049   \n",
       "1 -345.390533  124.867485  -4.307336  19.490623   7.525982 -17.402979   \n",
       "2 -860.161987   97.513298 -21.191671   8.036111   6.223122  -6.836332   \n",
       "3 -525.321655   51.241253 -15.734446  -2.986843   5.281782  -3.511705   \n",
       "4 -406.449951  121.712585  16.063465  29.269457  18.560997  -3.910539   \n",
       "\n",
       "      mfcc_7     mfcc_8     mfcc_9    mfcc_10  ...    mfcc_12    mfcc_13  \\\n",
       "0 -20.511789 -20.623474 -23.285761 -15.352588  ... -14.310049   1.837768   \n",
       "1   6.819692 -16.135691 -42.735359 -21.941904  ... -20.900917 -10.857018   \n",
       "2   8.026308   2.952522 -10.468498   1.575670  ...  -7.578856  -0.824565   \n",
       "3   3.455106  -0.633038  -9.138741  -4.899961  ...  -4.711785  -0.084784   \n",
       "4  12.661272  -5.819675 -28.114544 -12.038963  ... -16.488800  -6.080915   \n",
       "\n",
       "     mfcc_14    mfcc_15   mfcc_16    mfcc_17    mfcc_18   mfcc_19    mfcc_20  \\\n",
       "0  -9.357093 -16.901194 -8.871928 -11.130017 -10.805934 -3.902681  -4.770747   \n",
       "1 -14.837809 -15.201618 -5.872452  -1.326357  -1.137605 -7.114715  -6.406201   \n",
       "2  -0.376975  -6.388448 -2.045947   0.254025  -0.853397 -0.025326  -0.848093   \n",
       "3  -2.399943  -2.744585  0.439062  -1.520346  -1.996574  0.463630  -0.533586   \n",
       "4 -11.323594 -14.311434 -7.020574 -10.257932  -9.524367 -6.419607 -11.246635   \n",
       "\n",
       "                filename  \n",
       "0            vowel-o.wav  \n",
       "1            vowel-a.wav  \n",
       "2  breathing-shallow.wav  \n",
       "3      cough-shallow.wav  \n",
       "4            vowel-e.wav  \n",
       "\n",
       "[5 rows x 21 columns]"
      ]
     },
     "execution_count": 74,
     "metadata": {},
     "output_type": "execute_result"
    },
    {
     "data": {
      "application/javascript": [
       "\n",
       "            setTimeout(function() {\n",
       "                var nbb_cell_id = 74;\n",
       "                var nbb_unformatted_code = \"data.head()\";\n",
       "                var nbb_formatted_code = \"data.head()\";\n",
       "                var nbb_cells = Jupyter.notebook.get_cells();\n",
       "                for (var i = 0; i < nbb_cells.length; ++i) {\n",
       "                    if (nbb_cells[i].input_prompt_number == nbb_cell_id) {\n",
       "                        if (nbb_cells[i].get_text() == nbb_unformatted_code) {\n",
       "                             nbb_cells[i].set_text(nbb_formatted_code);\n",
       "                        }\n",
       "                        break;\n",
       "                    }\n",
       "                }\n",
       "            }, 500);\n",
       "            "
      ],
      "text/plain": [
       "<IPython.core.display.Javascript object>"
      ]
     },
     "metadata": {},
     "output_type": "display_data"
    }
   ],
   "source": [
    "data.head()"
   ]
  },
  {
   "cell_type": "code",
   "execution_count": 75,
   "id": "bbd1003a",
   "metadata": {},
   "outputs": [
    {
     "data": {
      "application/javascript": [
       "\n",
       "            setTimeout(function() {\n",
       "                var nbb_cell_id = 75;\n",
       "                var nbb_unformatted_code = \"file_le = LabelEncoder()\\nfile_le.classes_ = np.load(\\\"file_le.npy\\\", allow_pickle=True)\\ndata[\\\"filename\\\"] = file_le.transform(data[\\\"filename\\\"])\";\n",
       "                var nbb_formatted_code = \"file_le = LabelEncoder()\\nfile_le.classes_ = np.load(\\\"file_le.npy\\\", allow_pickle=True)\\ndata[\\\"filename\\\"] = file_le.transform(data[\\\"filename\\\"])\";\n",
       "                var nbb_cells = Jupyter.notebook.get_cells();\n",
       "                for (var i = 0; i < nbb_cells.length; ++i) {\n",
       "                    if (nbb_cells[i].input_prompt_number == nbb_cell_id) {\n",
       "                        if (nbb_cells[i].get_text() == nbb_unformatted_code) {\n",
       "                             nbb_cells[i].set_text(nbb_formatted_code);\n",
       "                        }\n",
       "                        break;\n",
       "                    }\n",
       "                }\n",
       "            }, 500);\n",
       "            "
      ],
      "text/plain": [
       "<IPython.core.display.Javascript object>"
      ]
     },
     "metadata": {},
     "output_type": "display_data"
    }
   ],
   "source": [
    "file_le = LabelEncoder()\n",
    "file_le.classes_ = np.load(\"file_le.npy\", allow_pickle=True)\n",
    "data[\"filename\"] = file_le.transform(data[\"filename\"])"
   ]
  },
  {
   "cell_type": "code",
   "execution_count": 76,
   "id": "a6e73edd",
   "metadata": {},
   "outputs": [
    {
     "data": {
      "application/javascript": [
       "\n",
       "            setTimeout(function() {\n",
       "                var nbb_cell_id = 76;\n",
       "                var nbb_unformatted_code = \"# target data\\ncs_le = LabelEncoder()\\ncs_le.classes_ = np.load(\\\"cs_le.npy\\\", allow_pickle=True)\\n\\ntarget_data = np.load(\\\"target_data.npy\\\")\";\n",
       "                var nbb_formatted_code = \"# target data\\ncs_le = LabelEncoder()\\ncs_le.classes_ = np.load(\\\"cs_le.npy\\\", allow_pickle=True)\\n\\ntarget_data = np.load(\\\"target_data.npy\\\")\";\n",
       "                var nbb_cells = Jupyter.notebook.get_cells();\n",
       "                for (var i = 0; i < nbb_cells.length; ++i) {\n",
       "                    if (nbb_cells[i].input_prompt_number == nbb_cell_id) {\n",
       "                        if (nbb_cells[i].get_text() == nbb_unformatted_code) {\n",
       "                             nbb_cells[i].set_text(nbb_formatted_code);\n",
       "                        }\n",
       "                        break;\n",
       "                    }\n",
       "                }\n",
       "            }, 500);\n",
       "            "
      ],
      "text/plain": [
       "<IPython.core.display.Javascript object>"
      ]
     },
     "metadata": {},
     "output_type": "display_data"
    }
   ],
   "source": [
    "# target data\n",
    "cs_le = LabelEncoder()\n",
    "cs_le.classes_ = np.load(\"cs_le.npy\", allow_pickle=True)\n",
    "\n",
    "target_data = np.load(\"target_data.npy\")"
   ]
  },
  {
   "cell_type": "code",
   "execution_count": 77,
   "id": "d9bcb405",
   "metadata": {},
   "outputs": [
    {
     "data": {
      "text/plain": [
       "(3798, 21)"
      ]
     },
     "execution_count": 77,
     "metadata": {},
     "output_type": "execute_result"
    },
    {
     "data": {
      "application/javascript": [
       "\n",
       "            setTimeout(function() {\n",
       "                var nbb_cell_id = 77;\n",
       "                var nbb_unformatted_code = \"data.values.shape\";\n",
       "                var nbb_formatted_code = \"data.values.shape\";\n",
       "                var nbb_cells = Jupyter.notebook.get_cells();\n",
       "                for (var i = 0; i < nbb_cells.length; ++i) {\n",
       "                    if (nbb_cells[i].input_prompt_number == nbb_cell_id) {\n",
       "                        if (nbb_cells[i].get_text() == nbb_unformatted_code) {\n",
       "                             nbb_cells[i].set_text(nbb_formatted_code);\n",
       "                        }\n",
       "                        break;\n",
       "                    }\n",
       "                }\n",
       "            }, 500);\n",
       "            "
      ],
      "text/plain": [
       "<IPython.core.display.Javascript object>"
      ]
     },
     "metadata": {},
     "output_type": "display_data"
    }
   ],
   "source": [
    "data.values.shape"
   ]
  },
  {
   "cell_type": "code",
   "execution_count": 78,
   "id": "abd5bf69",
   "metadata": {},
   "outputs": [
    {
     "data": {
      "application/javascript": [
       "\n",
       "            setTimeout(function() {\n",
       "                var nbb_cell_id = 78;\n",
       "                var nbb_unformatted_code = \"# shape = (no. of samples , audio files , mfcc features + user_id + filename)\\n\\nmfcc_data = data.values.reshape((422, 9, 21))\";\n",
       "                var nbb_formatted_code = \"# shape = (no. of samples , audio files , mfcc features + user_id + filename)\\n\\nmfcc_data = data.values.reshape((422, 9, 21))\";\n",
       "                var nbb_cells = Jupyter.notebook.get_cells();\n",
       "                for (var i = 0; i < nbb_cells.length; ++i) {\n",
       "                    if (nbb_cells[i].input_prompt_number == nbb_cell_id) {\n",
       "                        if (nbb_cells[i].get_text() == nbb_unformatted_code) {\n",
       "                             nbb_cells[i].set_text(nbb_formatted_code);\n",
       "                        }\n",
       "                        break;\n",
       "                    }\n",
       "                }\n",
       "            }, 500);\n",
       "            "
      ],
      "text/plain": [
       "<IPython.core.display.Javascript object>"
      ]
     },
     "metadata": {},
     "output_type": "display_data"
    }
   ],
   "source": [
    "# shape = (no. of samples , audio files , mfcc features + user_id + filename)\n",
    "\n",
    "mfcc_data = data.values.reshape((422, 9, 21))"
   ]
  },
  {
   "cell_type": "code",
   "execution_count": 79,
   "id": "eed20dd2",
   "metadata": {},
   "outputs": [
    {
     "data": {
      "text/plain": [
       "array([-363.3772583 ,  144.3583374 ,   27.98093414,   15.13162708,\n",
       "         -4.16899014,  -31.02504921,  -20.51178932,  -20.62347412,\n",
       "        -23.28576088,  -15.3525877 ,  -21.60122299,  -14.31004906,\n",
       "          1.83776784,   -9.35709286,  -16.90119362,   -8.87192822,\n",
       "        -11.13001728,  -10.80593395,   -3.90268111,   -4.77074718,\n",
       "          8.        ])"
      ]
     },
     "execution_count": 79,
     "metadata": {},
     "output_type": "execute_result"
    },
    {
     "data": {
      "application/javascript": [
       "\n",
       "            setTimeout(function() {\n",
       "                var nbb_cell_id = 79;\n",
       "                var nbb_unformatted_code = \"mfcc_data[0][0]\";\n",
       "                var nbb_formatted_code = \"mfcc_data[0][0]\";\n",
       "                var nbb_cells = Jupyter.notebook.get_cells();\n",
       "                for (var i = 0; i < nbb_cells.length; ++i) {\n",
       "                    if (nbb_cells[i].input_prompt_number == nbb_cell_id) {\n",
       "                        if (nbb_cells[i].get_text() == nbb_unformatted_code) {\n",
       "                             nbb_cells[i].set_text(nbb_formatted_code);\n",
       "                        }\n",
       "                        break;\n",
       "                    }\n",
       "                }\n",
       "            }, 500);\n",
       "            "
      ],
      "text/plain": [
       "<IPython.core.display.Javascript object>"
      ]
     },
     "metadata": {},
     "output_type": "display_data"
    }
   ],
   "source": [
    "mfcc_data[0][0]"
   ]
  },
  {
   "cell_type": "code",
   "execution_count": 80,
   "id": "27b49ff1",
   "metadata": {},
   "outputs": [
    {
     "data": {
      "text/plain": [
       "mfcc_1     -363.377258\n",
       "mfcc_2      144.358337\n",
       "mfcc_3       27.980934\n",
       "mfcc_4       15.131627\n",
       "mfcc_5       -4.168990\n",
       "mfcc_6      -31.025049\n",
       "mfcc_7      -20.511789\n",
       "mfcc_8      -20.623474\n",
       "mfcc_9      -23.285761\n",
       "mfcc_10     -15.352588\n",
       "mfcc_11     -21.601223\n",
       "mfcc_12     -14.310049\n",
       "mfcc_13       1.837768\n",
       "mfcc_14      -9.357093\n",
       "mfcc_15     -16.901194\n",
       "mfcc_16      -8.871928\n",
       "mfcc_17     -11.130017\n",
       "mfcc_18     -10.805934\n",
       "mfcc_19      -3.902681\n",
       "mfcc_20      -4.770747\n",
       "filename      8.000000\n",
       "Name: 0, dtype: float64"
      ]
     },
     "execution_count": 80,
     "metadata": {},
     "output_type": "execute_result"
    },
    {
     "data": {
      "application/javascript": [
       "\n",
       "            setTimeout(function() {\n",
       "                var nbb_cell_id = 80;\n",
       "                var nbb_unformatted_code = \"data.iloc[0]\";\n",
       "                var nbb_formatted_code = \"data.iloc[0]\";\n",
       "                var nbb_cells = Jupyter.notebook.get_cells();\n",
       "                for (var i = 0; i < nbb_cells.length; ++i) {\n",
       "                    if (nbb_cells[i].input_prompt_number == nbb_cell_id) {\n",
       "                        if (nbb_cells[i].get_text() == nbb_unformatted_code) {\n",
       "                             nbb_cells[i].set_text(nbb_formatted_code);\n",
       "                        }\n",
       "                        break;\n",
       "                    }\n",
       "                }\n",
       "            }, 500);\n",
       "            "
      ],
      "text/plain": [
       "<IPython.core.display.Javascript object>"
      ]
     },
     "metadata": {},
     "output_type": "display_data"
    }
   ],
   "source": [
    "data.iloc[0]"
   ]
  },
  {
   "cell_type": "code",
   "execution_count": 81,
   "id": "404c9198",
   "metadata": {},
   "outputs": [
    {
     "data": {
      "application/javascript": [
       "\n",
       "            setTimeout(function() {\n",
       "                var nbb_cell_id = 81;\n",
       "                var nbb_unformatted_code = \"np.save(\\\"mfcc_data.npy\\\", mfcc_data)\";\n",
       "                var nbb_formatted_code = \"np.save(\\\"mfcc_data.npy\\\", mfcc_data)\";\n",
       "                var nbb_cells = Jupyter.notebook.get_cells();\n",
       "                for (var i = 0; i < nbb_cells.length; ++i) {\n",
       "                    if (nbb_cells[i].input_prompt_number == nbb_cell_id) {\n",
       "                        if (nbb_cells[i].get_text() == nbb_unformatted_code) {\n",
       "                             nbb_cells[i].set_text(nbb_formatted_code);\n",
       "                        }\n",
       "                        break;\n",
       "                    }\n",
       "                }\n",
       "            }, 500);\n",
       "            "
      ],
      "text/plain": [
       "<IPython.core.display.Javascript object>"
      ]
     },
     "metadata": {},
     "output_type": "display_data"
    }
   ],
   "source": [
    "np.save(\"mfcc_data.npy\", mfcc_data)"
   ]
  },
  {
   "cell_type": "code",
   "execution_count": 82,
   "id": "0c1d4ae1",
   "metadata": {},
   "outputs": [
    {
     "data": {
      "text/plain": [
       "((422, 9, 21), (422,))"
      ]
     },
     "execution_count": 82,
     "metadata": {},
     "output_type": "execute_result"
    },
    {
     "data": {
      "application/javascript": [
       "\n",
       "            setTimeout(function() {\n",
       "                var nbb_cell_id = 82;\n",
       "                var nbb_unformatted_code = \"# features data and target data\\nmfcc_data.shape, target_data.shape\";\n",
       "                var nbb_formatted_code = \"# features data and target data\\nmfcc_data.shape, target_data.shape\";\n",
       "                var nbb_cells = Jupyter.notebook.get_cells();\n",
       "                for (var i = 0; i < nbb_cells.length; ++i) {\n",
       "                    if (nbb_cells[i].input_prompt_number == nbb_cell_id) {\n",
       "                        if (nbb_cells[i].get_text() == nbb_unformatted_code) {\n",
       "                             nbb_cells[i].set_text(nbb_formatted_code);\n",
       "                        }\n",
       "                        break;\n",
       "                    }\n",
       "                }\n",
       "            }, 500);\n",
       "            "
      ],
      "text/plain": [
       "<IPython.core.display.Javascript object>"
      ]
     },
     "metadata": {},
     "output_type": "display_data"
    }
   ],
   "source": [
    "# features data and target data\n",
    "mfcc_data.shape, target_data.shape"
   ]
  },
  {
   "cell_type": "markdown",
   "id": "ab9783a3",
   "metadata": {},
   "source": [
    "## Data Preparation\n",
    "* Order of Features Must Be Same\n",
    "    * mfcc ( 1 to 20 )\n",
    "    * user_id\n",
    "    * Filename ( filename => file_le.fit_transform )\n",
    "\n",
    "* Target:\n",
    "    * covid_status ( covid_status => cs_le.fit_transform )\n",
    "    \n",
    "    \n",
    "## File Information\n",
    "* **mfcc_data.npy** : our final feature array of shape (422 ,9 ,22)\n",
    "* **targegt_data.npy** : final target array of shape (422 ,1)\n",
    "* **cs_le.npy** : covid_status label encoder classes\n",
    "* **file_le.npy** : filename label encoder classes    "
   ]
  },
  {
   "cell_type": "markdown",
   "id": "21c43c4e",
   "metadata": {},
   "source": [
    "# Deep Learning Model"
   ]
  },
  {
   "cell_type": "code",
   "execution_count": 83,
   "id": "c4995dae",
   "metadata": {},
   "outputs": [
    {
     "data": {
      "application/javascript": [
       "\n",
       "            setTimeout(function() {\n",
       "                var nbb_cell_id = 83;\n",
       "                var nbb_unformatted_code = \"n_classes = len(cs_le.classes_)\";\n",
       "                var nbb_formatted_code = \"n_classes = len(cs_le.classes_)\";\n",
       "                var nbb_cells = Jupyter.notebook.get_cells();\n",
       "                for (var i = 0; i < nbb_cells.length; ++i) {\n",
       "                    if (nbb_cells[i].input_prompt_number == nbb_cell_id) {\n",
       "                        if (nbb_cells[i].get_text() == nbb_unformatted_code) {\n",
       "                             nbb_cells[i].set_text(nbb_formatted_code);\n",
       "                        }\n",
       "                        break;\n",
       "                    }\n",
       "                }\n",
       "            }, 500);\n",
       "            "
      ],
      "text/plain": [
       "<IPython.core.display.Javascript object>"
      ]
     },
     "metadata": {},
     "output_type": "display_data"
    }
   ],
   "source": [
    "n_classes = len(cs_le.classes_)"
   ]
  },
  {
   "cell_type": "code",
   "execution_count": 84,
   "id": "dc5ec8ea",
   "metadata": {},
   "outputs": [
    {
     "data": {
      "text/plain": [
       "(9, 21)"
      ]
     },
     "execution_count": 84,
     "metadata": {},
     "output_type": "execute_result"
    },
    {
     "data": {
      "application/javascript": [
       "\n",
       "            setTimeout(function() {\n",
       "                var nbb_cell_id = 84;\n",
       "                var nbb_unformatted_code = \"mfcc_data[0].shape\";\n",
       "                var nbb_formatted_code = \"mfcc_data[0].shape\";\n",
       "                var nbb_cells = Jupyter.notebook.get_cells();\n",
       "                for (var i = 0; i < nbb_cells.length; ++i) {\n",
       "                    if (nbb_cells[i].input_prompt_number == nbb_cell_id) {\n",
       "                        if (nbb_cells[i].get_text() == nbb_unformatted_code) {\n",
       "                             nbb_cells[i].set_text(nbb_formatted_code);\n",
       "                        }\n",
       "                        break;\n",
       "                    }\n",
       "                }\n",
       "            }, 500);\n",
       "            "
      ],
      "text/plain": [
       "<IPython.core.display.Javascript object>"
      ]
     },
     "metadata": {},
     "output_type": "display_data"
    }
   ],
   "source": [
    "mfcc_data[0].shape"
   ]
  },
  {
   "cell_type": "code",
   "execution_count": 92,
   "id": "a5609474",
   "metadata": {},
   "outputs": [
    {
     "data": {
      "application/javascript": [
       "\n",
       "            setTimeout(function() {\n",
       "                var nbb_cell_id = 92;\n",
       "                var nbb_unformatted_code = \"model = Sequential()\\n\\nmodel.add(Input(shape=mfcc_data[0].shape))\\nmodel.add(Flatten())\\n\\nmodel.add(Dense(units=16, activation=\\\"relu\\\"))\\nmodel.add(Dense(units=32, activation=\\\"relu\\\"))\\nmodel.add(Dense(units=64, activation=\\\"relu\\\"))\\nmodel.add(Dense(units=64, activation=\\\"relu\\\"))\\n# model.add(Dense(units=128, activation=\\\"relu\\\"))\\nmodel.add(Dense(units=n_classes, activation=\\\"softmax\\\"))\";\n",
       "                var nbb_formatted_code = \"model = Sequential()\\n\\nmodel.add(Input(shape=mfcc_data[0].shape))\\nmodel.add(Flatten())\\n\\nmodel.add(Dense(units=16, activation=\\\"relu\\\"))\\nmodel.add(Dense(units=32, activation=\\\"relu\\\"))\\nmodel.add(Dense(units=64, activation=\\\"relu\\\"))\\nmodel.add(Dense(units=64, activation=\\\"relu\\\"))\\n# model.add(Dense(units=128, activation=\\\"relu\\\"))\\nmodel.add(Dense(units=n_classes, activation=\\\"softmax\\\"))\";\n",
       "                var nbb_cells = Jupyter.notebook.get_cells();\n",
       "                for (var i = 0; i < nbb_cells.length; ++i) {\n",
       "                    if (nbb_cells[i].input_prompt_number == nbb_cell_id) {\n",
       "                        if (nbb_cells[i].get_text() == nbb_unformatted_code) {\n",
       "                             nbb_cells[i].set_text(nbb_formatted_code);\n",
       "                        }\n",
       "                        break;\n",
       "                    }\n",
       "                }\n",
       "            }, 500);\n",
       "            "
      ],
      "text/plain": [
       "<IPython.core.display.Javascript object>"
      ]
     },
     "metadata": {},
     "output_type": "display_data"
    }
   ],
   "source": [
    "model = Sequential()\n",
    "\n",
    "model.add(Input(shape=mfcc_data[0].shape))\n",
    "model.add(Flatten())\n",
    "\n",
    "model.add(Dense(units=16, activation=\"relu\"))\n",
    "model.add(Dense(units=32, activation=\"relu\"))\n",
    "model.add(Dense(units=64, activation=\"relu\"))\n",
    "model.add(Dense(units=64, activation=\"relu\"))\n",
    "# model.add(Dense(units=128, activation=\"relu\"))\n",
    "model.add(Dense(units=n_classes, activation=\"softmax\"))"
   ]
  },
  {
   "cell_type": "code",
   "execution_count": 93,
   "id": "8e18e6c4",
   "metadata": {},
   "outputs": [
    {
     "name": "stdout",
     "output_type": "stream",
     "text": [
      "Model: \"sequential_4\"\n",
      "_________________________________________________________________\n",
      "Layer (type)                 Output Shape              Param #   \n",
      "=================================================================\n",
      "flatten_4 (Flatten)          (None, 189)               0         \n",
      "_________________________________________________________________\n",
      "dense_22 (Dense)             (None, 16)                3040      \n",
      "_________________________________________________________________\n",
      "dense_23 (Dense)             (None, 32)                544       \n",
      "_________________________________________________________________\n",
      "dense_24 (Dense)             (None, 64)                2112      \n",
      "_________________________________________________________________\n",
      "dense_25 (Dense)             (None, 64)                4160      \n",
      "_________________________________________________________________\n",
      "dense_26 (Dense)             (None, 7)                 455       \n",
      "=================================================================\n",
      "Total params: 10,311\n",
      "Trainable params: 10,311\n",
      "Non-trainable params: 0\n",
      "_________________________________________________________________\n"
     ]
    },
    {
     "data": {
      "application/javascript": [
       "\n",
       "            setTimeout(function() {\n",
       "                var nbb_cell_id = 93;\n",
       "                var nbb_unformatted_code = \"model.summary()\";\n",
       "                var nbb_formatted_code = \"model.summary()\";\n",
       "                var nbb_cells = Jupyter.notebook.get_cells();\n",
       "                for (var i = 0; i < nbb_cells.length; ++i) {\n",
       "                    if (nbb_cells[i].input_prompt_number == nbb_cell_id) {\n",
       "                        if (nbb_cells[i].get_text() == nbb_unformatted_code) {\n",
       "                             nbb_cells[i].set_text(nbb_formatted_code);\n",
       "                        }\n",
       "                        break;\n",
       "                    }\n",
       "                }\n",
       "            }, 500);\n",
       "            "
      ],
      "text/plain": [
       "<IPython.core.display.Javascript object>"
      ]
     },
     "metadata": {},
     "output_type": "display_data"
    }
   ],
   "source": [
    "model.summary()"
   ]
  },
  {
   "cell_type": "code",
   "execution_count": 94,
   "id": "93c9f3e9",
   "metadata": {},
   "outputs": [
    {
     "data": {
      "application/javascript": [
       "\n",
       "            setTimeout(function() {\n",
       "                var nbb_cell_id = 94;\n",
       "                var nbb_unformatted_code = \"model.compile(\\n    optimizer=\\\"adam\\\",\\n    loss=tensorflow.keras.losses.SparseCategoricalCrossentropy(),\\n    metrics=[\\\"accuracy\\\"],\\n)\";\n",
       "                var nbb_formatted_code = \"model.compile(\\n    optimizer=\\\"adam\\\",\\n    loss=tensorflow.keras.losses.SparseCategoricalCrossentropy(),\\n    metrics=[\\\"accuracy\\\"],\\n)\";\n",
       "                var nbb_cells = Jupyter.notebook.get_cells();\n",
       "                for (var i = 0; i < nbb_cells.length; ++i) {\n",
       "                    if (nbb_cells[i].input_prompt_number == nbb_cell_id) {\n",
       "                        if (nbb_cells[i].get_text() == nbb_unformatted_code) {\n",
       "                             nbb_cells[i].set_text(nbb_formatted_code);\n",
       "                        }\n",
       "                        break;\n",
       "                    }\n",
       "                }\n",
       "            }, 500);\n",
       "            "
      ],
      "text/plain": [
       "<IPython.core.display.Javascript object>"
      ]
     },
     "metadata": {},
     "output_type": "display_data"
    }
   ],
   "source": [
    "model.compile(\n",
    "    optimizer=\"adam\",\n",
    "    loss=tensorflow.keras.losses.SparseCategoricalCrossentropy(),\n",
    "    metrics=[\"accuracy\"],\n",
    ")"
   ]
  },
  {
   "cell_type": "markdown",
   "id": "233df737",
   "metadata": {},
   "source": [
    "## Train Test Split"
   ]
  },
  {
   "cell_type": "code",
   "execution_count": 95,
   "id": "f171e61f",
   "metadata": {},
   "outputs": [
    {
     "data": {
      "application/javascript": [
       "\n",
       "            setTimeout(function() {\n",
       "                var nbb_cell_id = 95;\n",
       "                var nbb_unformatted_code = \"X_train, X_test, y_train, y_test = train_test_split(\\n    mfcc_data, target_data, test_size=0.20, random_state=0\\n)\";\n",
       "                var nbb_formatted_code = \"X_train, X_test, y_train, y_test = train_test_split(\\n    mfcc_data, target_data, test_size=0.20, random_state=0\\n)\";\n",
       "                var nbb_cells = Jupyter.notebook.get_cells();\n",
       "                for (var i = 0; i < nbb_cells.length; ++i) {\n",
       "                    if (nbb_cells[i].input_prompt_number == nbb_cell_id) {\n",
       "                        if (nbb_cells[i].get_text() == nbb_unformatted_code) {\n",
       "                             nbb_cells[i].set_text(nbb_formatted_code);\n",
       "                        }\n",
       "                        break;\n",
       "                    }\n",
       "                }\n",
       "            }, 500);\n",
       "            "
      ],
      "text/plain": [
       "<IPython.core.display.Javascript object>"
      ]
     },
     "metadata": {},
     "output_type": "display_data"
    }
   ],
   "source": [
    "X_train, X_test, y_train, y_test = train_test_split(\n",
    "    mfcc_data, target_data, test_size=0.20, random_state=0\n",
    ")"
   ]
  },
  {
   "cell_type": "code",
   "execution_count": 96,
   "id": "6a8350d5",
   "metadata": {},
   "outputs": [
    {
     "data": {
      "text/plain": [
       "((337, 9, 21), (85, 9, 21))"
      ]
     },
     "execution_count": 96,
     "metadata": {},
     "output_type": "execute_result"
    },
    {
     "data": {
      "application/javascript": [
       "\n",
       "            setTimeout(function() {\n",
       "                var nbb_cell_id = 96;\n",
       "                var nbb_unformatted_code = \"X_train.shape, X_test.shape\";\n",
       "                var nbb_formatted_code = \"X_train.shape, X_test.shape\";\n",
       "                var nbb_cells = Jupyter.notebook.get_cells();\n",
       "                for (var i = 0; i < nbb_cells.length; ++i) {\n",
       "                    if (nbb_cells[i].input_prompt_number == nbb_cell_id) {\n",
       "                        if (nbb_cells[i].get_text() == nbb_unformatted_code) {\n",
       "                             nbb_cells[i].set_text(nbb_formatted_code);\n",
       "                        }\n",
       "                        break;\n",
       "                    }\n",
       "                }\n",
       "            }, 500);\n",
       "            "
      ],
      "text/plain": [
       "<IPython.core.display.Javascript object>"
      ]
     },
     "metadata": {},
     "output_type": "display_data"
    }
   ],
   "source": [
    "X_train.shape, X_test.shape"
   ]
  },
  {
   "cell_type": "code",
   "execution_count": 97,
   "id": "ec50339d",
   "metadata": {},
   "outputs": [
    {
     "data": {
      "text/plain": [
       "((337,), (85,))"
      ]
     },
     "execution_count": 97,
     "metadata": {},
     "output_type": "execute_result"
    },
    {
     "data": {
      "application/javascript": [
       "\n",
       "            setTimeout(function() {\n",
       "                var nbb_cell_id = 97;\n",
       "                var nbb_unformatted_code = \"y_train = np.array(y_train)\\ny_test = np.array(y_test)\\ny_train.shape, y_test.shape\";\n",
       "                var nbb_formatted_code = \"y_train = np.array(y_train)\\ny_test = np.array(y_test)\\ny_train.shape, y_test.shape\";\n",
       "                var nbb_cells = Jupyter.notebook.get_cells();\n",
       "                for (var i = 0; i < nbb_cells.length; ++i) {\n",
       "                    if (nbb_cells[i].input_prompt_number == nbb_cell_id) {\n",
       "                        if (nbb_cells[i].get_text() == nbb_unformatted_code) {\n",
       "                             nbb_cells[i].set_text(nbb_formatted_code);\n",
       "                        }\n",
       "                        break;\n",
       "                    }\n",
       "                }\n",
       "            }, 500);\n",
       "            "
      ],
      "text/plain": [
       "<IPython.core.display.Javascript object>"
      ]
     },
     "metadata": {},
     "output_type": "display_data"
    }
   ],
   "source": [
    "y_train = np.array(y_train)\n",
    "y_test = np.array(y_test)\n",
    "y_train.shape, y_test.shape"
   ]
  },
  {
   "cell_type": "markdown",
   "id": "9fefdb0a",
   "metadata": {},
   "source": [
    "## Model Training"
   ]
  },
  {
   "cell_type": "code",
   "execution_count": 98,
   "id": "9105787d",
   "metadata": {},
   "outputs": [
    {
     "name": "stdout",
     "output_type": "stream",
     "text": [
      "Epoch 1/15\n",
      "337/337 [==============================] - 0s 733us/step - loss: 3.4386 - accuracy: 0.5490 - val_loss: 1.3378 - val_accuracy: 0.5294\n",
      "Epoch 2/15\n",
      "337/337 [==============================] - 0s 515us/step - loss: 1.5329 - accuracy: 0.6380 - val_loss: 1.2116 - val_accuracy: 0.7176\n",
      "Epoch 3/15\n",
      "337/337 [==============================] - 0s 525us/step - loss: 1.3856 - accuracy: 0.6291 - val_loss: 1.1218 - val_accuracy: 0.7176\n",
      "Epoch 4/15\n",
      "337/337 [==============================] - 0s 522us/step - loss: 1.2878 - accuracy: 0.6528 - val_loss: 1.0893 - val_accuracy: 0.7176\n",
      "Epoch 5/15\n",
      "337/337 [==============================] - 0s 517us/step - loss: 1.3176 - accuracy: 0.6469 - val_loss: 1.0433 - val_accuracy: 0.7176\n",
      "Epoch 6/15\n",
      "337/337 [==============================] - 0s 526us/step - loss: 1.1961 - accuracy: 0.6588 - val_loss: 1.0582 - val_accuracy: 0.7176\n",
      "Epoch 7/15\n",
      "337/337 [==============================] - 0s 523us/step - loss: 1.2304 - accuracy: 0.6617 - val_loss: 1.0457 - val_accuracy: 0.7176\n",
      "Epoch 8/15\n",
      "337/337 [==============================] - 0s 518us/step - loss: 1.1869 - accuracy: 0.6617 - val_loss: 1.0468 - val_accuracy: 0.7176\n",
      "Epoch 9/15\n",
      "337/337 [==============================] - 0s 515us/step - loss: 1.1711 - accuracy: 0.6677 - val_loss: 1.0507 - val_accuracy: 0.7176\n",
      "Epoch 10/15\n",
      "337/337 [==============================] - 0s 501us/step - loss: 1.1907 - accuracy: 0.6647 - val_loss: 1.0516 - val_accuracy: 0.7176\n",
      "Epoch 11/15\n",
      "337/337 [==============================] - 0s 522us/step - loss: 1.1920 - accuracy: 0.6647 - val_loss: 1.0551 - val_accuracy: 0.7176\n",
      "Epoch 12/15\n",
      "337/337 [==============================] - 0s 523us/step - loss: 1.1838 - accuracy: 0.6617 - val_loss: 1.0615 - val_accuracy: 0.7176\n",
      "Epoch 13/15\n",
      "337/337 [==============================] - 0s 538us/step - loss: 1.1873 - accuracy: 0.6677 - val_loss: 1.0458 - val_accuracy: 0.7176\n",
      "Epoch 14/15\n",
      "337/337 [==============================] - 0s 566us/step - loss: 1.1839 - accuracy: 0.6677 - val_loss: 1.0457 - val_accuracy: 0.7176\n",
      "Epoch 15/15\n",
      "337/337 [==============================] - 0s 591us/step - loss: 1.1760 - accuracy: 0.6677 - val_loss: 1.0417 - val_accuracy: 0.7176\n"
     ]
    },
    {
     "data": {
      "text/plain": [
       "<tensorflow.python.keras.callbacks.History at 0x7f4d944cf040>"
      ]
     },
     "execution_count": 98,
     "metadata": {},
     "output_type": "execute_result"
    },
    {
     "data": {
      "application/javascript": [
       "\n",
       "            setTimeout(function() {\n",
       "                var nbb_cell_id = 98;\n",
       "                var nbb_unformatted_code = \"model.fit(X_train, y_train, batch_size=1, epochs=15, validation_data=(X_test, y_test))\";\n",
       "                var nbb_formatted_code = \"model.fit(X_train, y_train, batch_size=1, epochs=15, validation_data=(X_test, y_test))\";\n",
       "                var nbb_cells = Jupyter.notebook.get_cells();\n",
       "                for (var i = 0; i < nbb_cells.length; ++i) {\n",
       "                    if (nbb_cells[i].input_prompt_number == nbb_cell_id) {\n",
       "                        if (nbb_cells[i].get_text() == nbb_unformatted_code) {\n",
       "                             nbb_cells[i].set_text(nbb_formatted_code);\n",
       "                        }\n",
       "                        break;\n",
       "                    }\n",
       "                }\n",
       "            }, 500);\n",
       "            "
      ],
      "text/plain": [
       "<IPython.core.display.Javascript object>"
      ]
     },
     "metadata": {},
     "output_type": "display_data"
    }
   ],
   "source": [
    "model.fit(X_train, y_train, batch_size=1, epochs=15, validation_data=(X_test, y_test))"
   ]
  },
  {
   "cell_type": "code",
   "execution_count": 99,
   "id": "1aac442f",
   "metadata": {},
   "outputs": [
    {
     "name": "stdout",
     "output_type": "stream",
     "text": [
      "3/3 [==============================] - 0s 768us/step - loss: 1.0417 - accuracy: 0.7176\n"
     ]
    },
    {
     "data": {
      "text/plain": [
       "[1.041690468788147, 0.7176470756530762]"
      ]
     },
     "execution_count": 99,
     "metadata": {},
     "output_type": "execute_result"
    },
    {
     "data": {
      "application/javascript": [
       "\n",
       "            setTimeout(function() {\n",
       "                var nbb_cell_id = 99;\n",
       "                var nbb_unformatted_code = \"model.evaluate(X_test, y_test)\\n# [loss , accuracy ]\";\n",
       "                var nbb_formatted_code = \"model.evaluate(X_test, y_test)\\n# [loss , accuracy ]\";\n",
       "                var nbb_cells = Jupyter.notebook.get_cells();\n",
       "                for (var i = 0; i < nbb_cells.length; ++i) {\n",
       "                    if (nbb_cells[i].input_prompt_number == nbb_cell_id) {\n",
       "                        if (nbb_cells[i].get_text() == nbb_unformatted_code) {\n",
       "                             nbb_cells[i].set_text(nbb_formatted_code);\n",
       "                        }\n",
       "                        break;\n",
       "                    }\n",
       "                }\n",
       "            }, 500);\n",
       "            "
      ],
      "text/plain": [
       "<IPython.core.display.Javascript object>"
      ]
     },
     "metadata": {},
     "output_type": "display_data"
    }
   ],
   "source": [
    "model.evaluate(X_test, y_test)\n",
    "# [loss , accuracy ]"
   ]
  },
  {
   "cell_type": "code",
   "execution_count": 67,
   "id": "deaa8475",
   "metadata": {},
   "outputs": [
    {
     "data": {
      "application/javascript": [
       "\n",
       "            setTimeout(function() {\n",
       "                var nbb_cell_id = 67;\n",
       "                var nbb_unformatted_code = \"model.save(\\\"model_2_71_mfcc.h5\\\")\";\n",
       "                var nbb_formatted_code = \"model.save(\\\"model_2_71_mfcc.h5\\\")\";\n",
       "                var nbb_cells = Jupyter.notebook.get_cells();\n",
       "                for (var i = 0; i < nbb_cells.length; ++i) {\n",
       "                    if (nbb_cells[i].input_prompt_number == nbb_cell_id) {\n",
       "                        if (nbb_cells[i].get_text() == nbb_unformatted_code) {\n",
       "                             nbb_cells[i].set_text(nbb_formatted_code);\n",
       "                        }\n",
       "                        break;\n",
       "                    }\n",
       "                }\n",
       "            }, 500);\n",
       "            "
      ],
      "text/plain": [
       "<IPython.core.display.Javascript object>"
      ]
     },
     "metadata": {},
     "output_type": "display_data"
    }
   ],
   "source": [
    "model.save(\"model_2_71_mfcc.h5\")"
   ]
  },
  {
   "cell_type": "markdown",
   "id": "b9a33a20",
   "metadata": {},
   "source": [
    "# Model Acccuracy Comparision:\n",
    "* ```Simple Feature Extraction``` :  0.7058823704719543\n",
    "* ```MFCCs Feature Extraction``` : 0.7176470756530762"
   ]
  },
  {
   "cell_type": "markdown",
   "id": "b7ed3ba0",
   "metadata": {},
   "source": [
    "### Next we will combine both features and then check for accuracy..."
   ]
  }
 ],
 "metadata": {
  "kernelspec": {
   "display_name": "Python 3 (ipykernel)",
   "language": "python",
   "name": "python3"
  },
  "language_info": {
   "codemirror_mode": {
    "name": "ipython",
    "version": 3
   },
   "file_extension": ".py",
   "mimetype": "text/x-python",
   "name": "python",
   "nbconvert_exporter": "python",
   "pygments_lexer": "ipython3",
   "version": "3.8.10"
  }
 },
 "nbformat": 4,
 "nbformat_minor": 5
}
